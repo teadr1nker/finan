{
 "cells": [
  {
   "cell_type": "code",
   "execution_count": 1,
   "id": "7942d548-41db-4672-beb1-35c9b9b64b87",
   "metadata": {},
   "outputs": [
    {
     "ename": "ModuleNotFoundError",
     "evalue": "No module named 'yfinance'",
     "output_type": "error",
     "traceback": [
      "\u001b[0;31m---------------------------------------------------------------------------\u001b[0m",
      "\u001b[0;31mModuleNotFoundError\u001b[0m                       Traceback (most recent call last)",
      "Cell \u001b[0;32mIn[1], line 1\u001b[0m\n\u001b[0;32m----> 1\u001b[0m \u001b[38;5;28;01mimport\u001b[39;00m \u001b[38;5;21;01myfinance\u001b[39;00m \u001b[38;5;28;01mas\u001b[39;00m \u001b[38;5;21;01myf\u001b[39;00m\n\u001b[1;32m      2\u001b[0m \u001b[38;5;28;01mimport\u001b[39;00m \u001b[38;5;21;01mmatplotlib\u001b[39;00m\u001b[38;5;21;01m.\u001b[39;00m\u001b[38;5;21;01mpyplot\u001b[39;00m \u001b[38;5;28;01mas\u001b[39;00m \u001b[38;5;21;01mplt\u001b[39;00m\n\u001b[1;32m      3\u001b[0m \u001b[38;5;28;01mimport\u001b[39;00m \u001b[38;5;21;01mnumpy\u001b[39;00m \u001b[38;5;28;01mas\u001b[39;00m \u001b[38;5;21;01mnp\u001b[39;00m\n",
      "\u001b[0;31mModuleNotFoundError\u001b[0m: No module named 'yfinance'"
     ]
    }
   ],
   "source": [
    "import yfinance as yf\n",
    "import matplotlib.pyplot as plt\n",
    "import numpy as np\n",
    "import pandas as pd\n",
    "from scipy.optimize import minimize"
   ]
  },
  {
   "cell_type": "code",
   "execution_count": null,
   "id": "f679f7a0-9afb-4e30-bcd6-235492dbd8db",
   "metadata": {},
   "outputs": [],
   "source": [
    "data = yf.download(['AMD', 'NVDA'], start='2020-01-01', end='2020-06-01')"
   ]
  },
  {
   "cell_type": "code",
   "execution_count": null,
   "id": "6b502f4b-0724-41c9-aa0f-61470497a037",
   "metadata": {},
   "outputs": [],
   "source": [
    "close = data.Close\n",
    "close"
   ]
  },
  {
   "cell_type": "code",
   "execution_count": null,
   "id": "b1c94250-d7a3-4271-9636-175170df5c70",
   "metadata": {},
   "outputs": [],
   "source": [
    "for name in close.columns:\n",
    "    close[name].plot()\n",
    "    plt.grid()\n",
    "    plt.title(name)\n",
    "    plt.show()"
   ]
  },
  {
   "cell_type": "code",
   "execution_count": null,
   "id": "0bd7ce69-f9b5-41c1-b564-f5f3c055d785",
   "metadata": {},
   "outputs": [],
   "source": [
    "profit = close.pct_change()\n",
    "profitMean = profit.mean()\n",
    "profitMean"
   ]
  },
  {
   "cell_type": "code",
   "execution_count": null,
   "id": "7f152d2d-dfcd-49f7-9517-f6b7841fbebc",
   "metadata": {},
   "outputs": [],
   "source": [
    "cov = profit.cov().to_numpy()\n",
    "cov"
   ]
  },
  {
   "cell_type": "code",
   "execution_count": null,
   "id": "1002f407-58f0-420f-9b55-eea03b867b0c",
   "metadata": {},
   "outputs": [],
   "source": [
    "cnt = len(profit.columns)\n",
    "\n",
    "def randPortf():\n",
    "    res = np.exp(np.random.randn(cnt))\n",
    "    res = res / res.sum()\n",
    "    return res\n",
    "\n",
    "r = randPortf()\n",
    "print(r)\n",
    "print(r.sum())"
   ]
  },
  {
   "cell_type": "code",
   "execution_count": null,
   "id": "acdc7621-fdd8-4952-9401-4beeacd48ff8",
   "metadata": {},
   "outputs": [],
   "source": [
    "def profitPortf(r):\n",
    "    return np.matmul(profitMean.values, r)\n",
    "\n",
    "r = randPortf()\n",
    "print(r)\n",
    "d = profitPortf(r)  # returns\n",
    "print(d)"
   ]
  },
  {
   "cell_type": "code",
   "execution_count": null,
   "id": "180b22f9-3534-4dc8-a59c-2a0dbd039cd8",
   "metadata": {},
   "outputs": [],
   "source": [
    "def riskPortf(r):\n",
    "    return np.sqrt(np.matmul(np.matmul(r, cov), r))\n",
    "\n",
    "r = randPortf()    \n",
    "print(r)\n",
    "rs = riskPortf(r)  # risks\n",
    "print(rs)"
   ]
  },
  {
   "cell_type": "code",
   "execution_count": null,
   "id": "876c4897-76ab-4d10-a112-bb508cef58a0",
   "metadata": {},
   "outputs": [],
   "source": [
    "def sharpeRatio(Rp, Rf, sigmap):\n",
    "    return (Rp - Rf) / sigmap"
   ]
  },
  {
   "cell_type": "code",
   "execution_count": null,
   "id": "cece5968-5708-476e-ae25-73bb6498c8a7",
   "metadata": {},
   "outputs": [],
   "source": [
    "N = 1024\n",
    "risk = np.zeros(N)\n",
    "ret = np.zeros(N)\n",
    "portf = np.zeros((N,cnt))\n",
    "\n",
    "sharpeK = np.zeros(N)\n",
    "\n",
    "riskFree = 0.03\n",
    "\n",
    "for n in range(N):\n",
    "    r = randPortf()\n",
    "\n",
    "    portf[n,:] = r\n",
    "    risk[n] = riskPortf(r)\n",
    "    ret[n] = profitPortf(r)\n",
    "    sharpeK[n] = sharpeRatio(np.sum(r * profitPortf(r)),\n",
    "                             riskFree,\n",
    "                             np.dot(r.T, np.dot(cov, r)))\n",
    "    \n",
    "plt.figure(figsize=(10,8))\n",
    "\n",
    "plt.scatter(risk*100,ret*100,c='y',marker='.')\n",
    "plt.xlabel('risk, %')\n",
    "plt.ylabel('return, %')\n",
    "plt.title(\"Portfolio cloud\")\n",
    "\n",
    "min_risk = np.argmin(risk)\n",
    "plt.scatter([(risk[min_risk])*100],[(ret[min_risk])*100],c='r',marker='*',label='Mininal risk')\n",
    "\n",
    "maxSharpKoef = np.argmax(doh/risk)\n",
    "plt.scatter([risk[maxSharpKoef]*100],[ret[maxSharpKoef]*100],c='g',marker='o',label='Max Sharpe Coefficent')\n",
    "\n",
    "r_mean = np.ones(cnt)/cnt\n",
    "risk_mean = riskPortf(r_mean)\n",
    "ret_mean = profitPortf(r_mean)\n",
    "plt.scatter([risk_mean*100],[ret_mean*100],c='b',marker='x',label='Medium portfolio')\n",
    "\n",
    "plt.legend()\n",
    "\n",
    "plt.show()"
   ]
  },
  {
   "cell_type": "code",
   "execution_count": null,
   "id": "ca05cfa7-2846-46f0-8201-fb484da7bbaa",
   "metadata": {},
   "outputs": [],
   "source": [
    "print('Min risk')\n",
    "print(\"risk = %1.2f%%\" % (float(risk[min_risk])*100.))\n",
    "print(\"return = %1.2f%%\" % (float(doh[min_risk])*100.))\n",
    "print(pd.DataFrame([portf[min_risk]*100],columns=close.columns,index=['ratio, %']).T)\n",
    "print()\n",
    "\n",
    "print('Max Sharpe coefficent')\n",
    "print(\"risk = %1.2f%%\" % (float(risk[maxSharpKoef])*100.))\n",
    "print(\"return = %1.2f%%\" % (float(doh[maxSharpKoef])*100.))\n",
    "print()\n",
    "print(pd.DataFrame([portf[maxSharpKoef]*100],columns=close.columns,index=['ratio, %']).T)\n",
    "print()\n",
    "\n",
    "print('Medium portfolio')\n",
    "print(\"risk = %1.2f%%\" % (float(risk_mean)*100.))\n",
    "print(\"return = %1.2f%%\" % (float( doh_mean)*100.))\n",
    "print()\n",
    "print(pd.DataFrame([r_mean*100],columns=close.columns,index=['ra, %']).T)\n",
    "print()"
   ]
  },
  {
   "cell_type": "code",
   "execution_count": null,
   "id": "fc3cbaf1-5260-47f4-a628-dbd8829c38a9",
   "metadata": {},
   "outputs": [],
   "source": [
    "plt.scatter(sharpeK, doh)\n",
    "plt.ylabel('Return')\n",
    "plt.xlabel('Sharpe Ratio')"
   ]
  },
  {
   "cell_type": "code",
   "execution_count": null,
   "id": "282738d1-64b4-4743-aa85-0faf87f4ff7c",
   "metadata": {},
   "outputs": [],
   "source": []
  }
 ],
 "metadata": {
  "kernelspec": {
   "display_name": "Python 3 (ipykernel)",
   "language": "python",
   "name": "python3"
  },
  "language_info": {
   "codemirror_mode": {
    "name": "ipython",
    "version": 3
   },
   "file_extension": ".py",
   "mimetype": "text/x-python",
   "name": "python",
   "nbconvert_exporter": "python",
   "pygments_lexer": "ipython3",
   "version": "3.11.6"
  }
 },
 "nbformat": 4,
 "nbformat_minor": 5
}
