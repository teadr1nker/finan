{
 "cells": [
  {
   "cell_type": "code",
   "execution_count": 1,
   "id": "48fe6890-4ef8-4037-b8cc-df7c374da239",
   "metadata": {},
   "outputs": [],
   "source": [
    "import yfinance as yf\n",
    "from pypfopt import expected_returns, EfficientSemivariance, EfficientFrontier, plotting\n",
    "from pypfopt.risk_models import risk_matrix\n",
    "import matplotlib.pyplot as plt\n",
    "import numpy as np\n",
    "from pypfopt.expected_returns import capm_return\n",
    "import warnings\n",
    "warnings.filterwarnings('ignore')"
   ]
  },
  {
   "cell_type": "code",
   "execution_count": 2,
   "id": "a433869c-0838-4b6f-96be-50250249f7b6",
   "metadata": {},
   "outputs": [
    {
     "name": "stdout",
     "output_type": "stream",
     "text": [
      "[*********************100%%**********************]  2 of 2 completed\n"
     ]
    },
    {
     "data": {
      "text/html": [
       "<div>\n",
       "<style scoped>\n",
       "    .dataframe tbody tr th:only-of-type {\n",
       "        vertical-align: middle;\n",
       "    }\n",
       "\n",
       "    .dataframe tbody tr th {\n",
       "        vertical-align: top;\n",
       "    }\n",
       "\n",
       "    .dataframe thead th {\n",
       "        text-align: right;\n",
       "    }\n",
       "</style>\n",
       "<table border=\"1\" class=\"dataframe\">\n",
       "  <thead>\n",
       "    <tr style=\"text-align: right;\">\n",
       "      <th></th>\n",
       "      <th>AMZN</th>\n",
       "      <th>NVDA</th>\n",
       "    </tr>\n",
       "    <tr>\n",
       "      <th>Date</th>\n",
       "      <th></th>\n",
       "      <th></th>\n",
       "    </tr>\n",
       "  </thead>\n",
       "  <tbody>\n",
       "    <tr>\n",
       "      <th>2020-01-02</th>\n",
       "      <td>94.900497</td>\n",
       "      <td>59.749302</td>\n",
       "    </tr>\n",
       "    <tr>\n",
       "      <th>2020-01-03</th>\n",
       "      <td>93.748497</td>\n",
       "      <td>58.792957</td>\n",
       "    </tr>\n",
       "    <tr>\n",
       "      <th>2020-01-06</th>\n",
       "      <td>95.143997</td>\n",
       "      <td>59.039505</td>\n",
       "    </tr>\n",
       "    <tr>\n",
       "      <th>2020-01-07</th>\n",
       "      <td>95.343002</td>\n",
       "      <td>59.754276</td>\n",
       "    </tr>\n",
       "    <tr>\n",
       "      <th>2020-01-08</th>\n",
       "      <td>94.598503</td>\n",
       "      <td>59.866348</td>\n",
       "    </tr>\n",
       "    <tr>\n",
       "      <th>...</th>\n",
       "      <td>...</td>\n",
       "      <td>...</td>\n",
       "    </tr>\n",
       "    <tr>\n",
       "      <th>2020-12-24</th>\n",
       "      <td>158.634506</td>\n",
       "      <td>129.656693</td>\n",
       "    </tr>\n",
       "    <tr>\n",
       "      <th>2020-12-28</th>\n",
       "      <td>164.197998</td>\n",
       "      <td>128.721207</td>\n",
       "    </tr>\n",
       "    <tr>\n",
       "      <th>2020-12-29</th>\n",
       "      <td>166.100006</td>\n",
       "      <td>129.152771</td>\n",
       "    </tr>\n",
       "    <tr>\n",
       "      <th>2020-12-30</th>\n",
       "      <td>164.292496</td>\n",
       "      <td>131.173447</td>\n",
       "    </tr>\n",
       "    <tr>\n",
       "      <th>2020-12-31</th>\n",
       "      <td>162.846497</td>\n",
       "      <td>130.267883</td>\n",
       "    </tr>\n",
       "  </tbody>\n",
       "</table>\n",
       "<p>253 rows × 2 columns</p>\n",
       "</div>"
      ],
      "text/plain": [
       "                  AMZN        NVDA\n",
       "Date                              \n",
       "2020-01-02   94.900497   59.749302\n",
       "2020-01-03   93.748497   58.792957\n",
       "2020-01-06   95.143997   59.039505\n",
       "2020-01-07   95.343002   59.754276\n",
       "2020-01-08   94.598503   59.866348\n",
       "...                ...         ...\n",
       "2020-12-24  158.634506  129.656693\n",
       "2020-12-28  164.197998  128.721207\n",
       "2020-12-29  166.100006  129.152771\n",
       "2020-12-30  164.292496  131.173447\n",
       "2020-12-31  162.846497  130.267883\n",
       "\n",
       "[253 rows x 2 columns]"
      ]
     },
     "execution_count": 2,
     "metadata": {},
     "output_type": "execute_result"
    }
   ],
   "source": [
    "data = yf.download(['AMZN', 'NVDA'], start='2020-01-01', end='2021-01-01')['Adj Close']\n",
    "data"
   ]
  },
  {
   "cell_type": "code",
   "execution_count": 3,
   "id": "3b5d041b",
   "metadata": {},
   "outputs": [],
   "source": [
    "#plt.plot(data['NVDA'])\n",
    "#plt.plot(data['AMZN'])"
   ]
  },
  {
   "cell_type": "code",
   "execution_count": 4,
   "id": "55683bae-8fa8-4925-971c-d4e15f644bf3",
   "metadata": {},
   "outputs": [],
   "source": [
    "mu = expected_returns.mean_historical_return(data)\n",
    "historicalReturns = expected_returns.returns_from_prices(data)"
   ]
  },
  {
   "cell_type": "code",
   "execution_count": 5,
   "id": "07e67242-3eca-4a55-ac69-d8c2eab2775a",
   "metadata": {},
   "outputs": [
    {
     "data": {
      "text/plain": [
       "AMZN    0.715971\n",
       "NVDA    1.180241\n",
       "dtype: float64"
      ]
     },
     "execution_count": 5,
     "metadata": {},
     "output_type": "execute_result"
    }
   ],
   "source": [
    "mu"
   ]
  },
  {
   "cell_type": "code",
   "execution_count": 6,
   "id": "94954586-adab-4409-9d7e-a3a230cda86e",
   "metadata": {},
   "outputs": [
    {
     "data": {
      "text/html": [
       "<div>\n",
       "<style scoped>\n",
       "    .dataframe tbody tr th:only-of-type {\n",
       "        vertical-align: middle;\n",
       "    }\n",
       "\n",
       "    .dataframe tbody tr th {\n",
       "        vertical-align: top;\n",
       "    }\n",
       "\n",
       "    .dataframe thead th {\n",
       "        text-align: right;\n",
       "    }\n",
       "</style>\n",
       "<table border=\"1\" class=\"dataframe\">\n",
       "  <thead>\n",
       "    <tr style=\"text-align: right;\">\n",
       "      <th></th>\n",
       "      <th>AMZN</th>\n",
       "      <th>NVDA</th>\n",
       "    </tr>\n",
       "    <tr>\n",
       "      <th>Date</th>\n",
       "      <th></th>\n",
       "      <th></th>\n",
       "    </tr>\n",
       "  </thead>\n",
       "  <tbody>\n",
       "    <tr>\n",
       "      <th>2020-01-03</th>\n",
       "      <td>-0.012139</td>\n",
       "      <td>-0.016006</td>\n",
       "    </tr>\n",
       "    <tr>\n",
       "      <th>2020-01-06</th>\n",
       "      <td>0.014886</td>\n",
       "      <td>0.004193</td>\n",
       "    </tr>\n",
       "    <tr>\n",
       "      <th>2020-01-07</th>\n",
       "      <td>0.002092</td>\n",
       "      <td>0.012107</td>\n",
       "    </tr>\n",
       "    <tr>\n",
       "      <th>2020-01-08</th>\n",
       "      <td>-0.007809</td>\n",
       "      <td>0.001876</td>\n",
       "    </tr>\n",
       "    <tr>\n",
       "      <th>2020-01-09</th>\n",
       "      <td>0.004799</td>\n",
       "      <td>0.010983</td>\n",
       "    </tr>\n",
       "    <tr>\n",
       "      <th>...</th>\n",
       "      <td>...</td>\n",
       "      <td>...</td>\n",
       "    </tr>\n",
       "    <tr>\n",
       "      <th>2020-12-24</th>\n",
       "      <td>-0.003949</td>\n",
       "      <td>-0.001192</td>\n",
       "    </tr>\n",
       "    <tr>\n",
       "      <th>2020-12-28</th>\n",
       "      <td>0.035071</td>\n",
       "      <td>-0.007215</td>\n",
       "    </tr>\n",
       "    <tr>\n",
       "      <th>2020-12-29</th>\n",
       "      <td>0.011584</td>\n",
       "      <td>0.003353</td>\n",
       "    </tr>\n",
       "    <tr>\n",
       "      <th>2020-12-30</th>\n",
       "      <td>-0.010882</td>\n",
       "      <td>0.015646</td>\n",
       "    </tr>\n",
       "    <tr>\n",
       "      <th>2020-12-31</th>\n",
       "      <td>-0.008801</td>\n",
       "      <td>-0.006904</td>\n",
       "    </tr>\n",
       "  </tbody>\n",
       "</table>\n",
       "<p>252 rows × 2 columns</p>\n",
       "</div>"
      ],
      "text/plain": [
       "                AMZN      NVDA\n",
       "Date                          \n",
       "2020-01-03 -0.012139 -0.016006\n",
       "2020-01-06  0.014886  0.004193\n",
       "2020-01-07  0.002092  0.012107\n",
       "2020-01-08 -0.007809  0.001876\n",
       "2020-01-09  0.004799  0.010983\n",
       "...              ...       ...\n",
       "2020-12-24 -0.003949 -0.001192\n",
       "2020-12-28  0.035071 -0.007215\n",
       "2020-12-29  0.011584  0.003353\n",
       "2020-12-30 -0.010882  0.015646\n",
       "2020-12-31 -0.008801 -0.006904\n",
       "\n",
       "[252 rows x 2 columns]"
      ]
     },
     "execution_count": 6,
     "metadata": {},
     "output_type": "execute_result"
    }
   ],
   "source": [
    "historicalReturns"
   ]
  },
  {
   "cell_type": "code",
   "execution_count": 16,
   "id": "b2ddfb28-8876-4d81-8a57-769779a90a47",
   "metadata": {},
   "outputs": [
    {
     "data": {
      "text/plain": [
       "OrderedDict([('AMZN', 0.9999998131463174), ('NVDA', 1.870421454e-07)])"
      ]
     },
     "execution_count": 16,
     "metadata": {},
     "output_type": "execute_result"
    }
   ],
   "source": [
    "es = EfficientSemivariance(mu, historicalReturns)\n",
    "es.efficient_return(0.02)"
   ]
  },
  {
   "cell_type": "code",
   "execution_count": 17,
   "id": "deff81ba-be39-4c83-909e-833501c126f8",
   "metadata": {},
   "outputs": [
    {
     "data": {
      "text/plain": [
       "OrderedDict([('AMZN', 1.0), ('NVDA', 0.0)])"
      ]
     },
     "execution_count": 17,
     "metadata": {},
     "output_type": "execute_result"
    }
   ],
   "source": [
    "weights = es.clean_weights()\n",
    "weights"
   ]
  },
  {
   "cell_type": "code",
   "execution_count": 18,
   "id": "99932b36-d833-47f5-b64b-9e68e14e7bd0",
   "metadata": {},
   "outputs": [
    {
     "name": "stdout",
     "output_type": "stream",
     "text": [
      "Expected annual return: 71.6%\n",
      "Annual semi-deviation: 24.8%\n",
      "Sortino Ratio: 2.81\n"
     ]
    },
    {
     "data": {
      "text/plain": [
       "(0.7159710352913378, 0.24777494149439777, 2.808883864904772)"
      ]
     },
     "execution_count": 18,
     "metadata": {},
     "output_type": "execute_result"
    }
   ],
   "source": [
    "es.portfolio_performance(verbose=True)"
   ]
  },
  {
   "cell_type": "code",
   "execution_count": 19,
   "id": "f823aab1-d8bb-48d6-bc30-72c5f8c25979",
   "metadata": {},
   "outputs": [
    {
     "data": {
      "text/html": [
       "<div>\n",
       "<style scoped>\n",
       "    .dataframe tbody tr th:only-of-type {\n",
       "        vertical-align: middle;\n",
       "    }\n",
       "\n",
       "    .dataframe tbody tr th {\n",
       "        vertical-align: top;\n",
       "    }\n",
       "\n",
       "    .dataframe thead th {\n",
       "        text-align: right;\n",
       "    }\n",
       "</style>\n",
       "<table border=\"1\" class=\"dataframe\">\n",
       "  <thead>\n",
       "    <tr style=\"text-align: right;\">\n",
       "      <th></th>\n",
       "      <th>AMZN</th>\n",
       "      <th>NVDA</th>\n",
       "    </tr>\n",
       "  </thead>\n",
       "  <tbody>\n",
       "    <tr>\n",
       "      <th>AMZN</th>\n",
       "      <td>0.148310</td>\n",
       "      <td>0.148669</td>\n",
       "    </tr>\n",
       "    <tr>\n",
       "      <th>NVDA</th>\n",
       "      <td>0.148669</td>\n",
       "      <td>0.335382</td>\n",
       "    </tr>\n",
       "  </tbody>\n",
       "</table>\n",
       "</div>"
      ],
      "text/plain": [
       "          AMZN      NVDA\n",
       "AMZN  0.148310  0.148669\n",
       "NVDA  0.148669  0.335382"
      ]
     },
     "execution_count": 19,
     "metadata": {},
     "output_type": "execute_result"
    }
   ],
   "source": [
    "S = risk_matrix(data)\n",
    "S"
   ]
  },
  {
   "cell_type": "code",
   "execution_count": 20,
   "id": "5966741d-5e10-4739-a9ad-b4edb0f4d760",
   "metadata": {},
   "outputs": [
    {
     "data": {
      "text/html": [
       "<div>\n",
       "<style scoped>\n",
       "    .dataframe tbody tr th:only-of-type {\n",
       "        vertical-align: middle;\n",
       "    }\n",
       "\n",
       "    .dataframe tbody tr th {\n",
       "        vertical-align: top;\n",
       "    }\n",
       "\n",
       "    .dataframe thead th {\n",
       "        text-align: right;\n",
       "    }\n",
       "</style>\n",
       "<table border=\"1\" class=\"dataframe\">\n",
       "  <thead>\n",
       "    <tr style=\"text-align: right;\">\n",
       "      <th></th>\n",
       "      <th>AMZN</th>\n",
       "      <th>NVDA</th>\n",
       "    </tr>\n",
       "  </thead>\n",
       "  <tbody>\n",
       "    <tr>\n",
       "      <th>AMZN</th>\n",
       "      <td>0.385110</td>\n",
       "      <td>0.385576</td>\n",
       "    </tr>\n",
       "    <tr>\n",
       "      <th>NVDA</th>\n",
       "      <td>0.385576</td>\n",
       "      <td>0.579121</td>\n",
       "    </tr>\n",
       "  </tbody>\n",
       "</table>\n",
       "</div>"
      ],
      "text/plain": [
       "          AMZN      NVDA\n",
       "AMZN  0.385110  0.385576\n",
       "NVDA  0.385576  0.579121"
      ]
     },
     "execution_count": 20,
     "metadata": {},
     "output_type": "execute_result"
    }
   ],
   "source": [
    "np.sqrt(S)"
   ]
  },
  {
   "cell_type": "code",
   "execution_count": 21,
   "id": "fc563809-ec36-44d2-90ff-c9065ced5619",
   "metadata": {},
   "outputs": [
    {
     "data": {
      "text/plain": [
       "<matplotlib.legend.Legend at 0x7ff44e60a940>"
      ]
     },
     "execution_count": 21,
     "metadata": {},
     "output_type": "execute_result"
    },
    {
     "data": {
      "image/png": "[encoded data removed]",
      "text/plain": [
       "<Figure size 640x480 with 1 Axes>"
      ]
     },
     "metadata": {},
     "output_type": "display_data"
    }
   ],
   "source": [
    "\n",
    "ef = EfficientFrontier(mu, S)\n",
    "\n",
    "fig, ax = plt.subplots()\n",
    "efMaxSharpe = ef.deepcopy()\n",
    "plotting.plot_efficient_frontier(ef, ax=ax)\n",
    "efMaxSharpe.max_sharpe()\n",
    "retTangent, stdTangent, _ = efMaxSharpe.portfolio_performance()\n",
    "ax.scatter(stdTangent, retTangent, marker='*', s = 100, c='r', label='Max Sharpe')\n",
    "\n",
    "Nsamples = 1024\n",
    "w = np.random.dirichlet(np.ones(ef.n_assets), Nsamples)\n",
    "rets = w.dot(ef.expected_returns)\n",
    "stds = np.sqrt(np.diag(w @ ef.cov_matrix @ w.T))\n",
    "sharpes = rets / stds\n",
    "ax.scatter(stds, rets, marker='.', c=sharpes)\n",
    "\n",
    "X = np.linspace(0, stds.max(), 50)\n",
    "coefs = np.polyfit([.02, stdTangent], [0, retTangent], 1)\n",
    "polynomial = np.poly1d(coefs)\n",
    "Y = polynomial(X)\n",
    "ax.plot(X, Y, c='r', label='Tangency')\n",
    "ax.legend()"
   ]
  },
  {
   "cell_type": "code",
   "execution_count": 22,
   "id": "45b5a602",
   "metadata": {},
   "outputs": [
    {
     "data": {
      "text/plain": [
       "<matplotlib.collections.PathCollection at 0x7ff44e53be50>"
      ]
     },
     "execution_count": 22,
     "metadata": {},
     "output_type": "execute_result"
    },
    {
     "data": {
      "image/png": "[encoded data removed]",
      "text/plain": [
       "<Figure size 640x480 with 1 Axes>"
      ]
     },
     "metadata": {},
     "output_type": "display_data"
    }
   ],
   "source": [
    "plt.clf()\n",
    "plt.scatter(rets, sharpes)"
   ]
  },
  {
   "cell_type": "code",
   "execution_count": 23,
   "id": "a96059b1",
   "metadata": {},
   "outputs": [
    {
     "name": "stdout",
     "output_type": "stream",
     "text": [
      "Expected annual return: 96.2%\n",
      "Annual volatility: 44.8%\n",
      "Sharpe Ratio: 2.10\n"
     ]
    },
    {
     "data": {
      "text/plain": [
       "(0.9618721426977201, 0.4482943732018957, 2.101012635894796)"
      ]
     },
     "execution_count": 23,
     "metadata": {},
     "output_type": "execute_result"
    }
   ],
   "source": [
    "efMaxSharpe.portfolio_performance(verbose=True)"
   ]
  },
  {
   "cell_type": "code",
   "execution_count": 24,
   "id": "4bb72cce",
   "metadata": {},
   "outputs": [
    {
     "data": {
      "text/plain": [
       "OrderedDict([('AMZN', 0.47035), ('NVDA', 0.52965)])"
      ]
     },
     "execution_count": 24,
     "metadata": {},
     "output_type": "execute_result"
    }
   ],
   "source": [
    "efMaxSharpe.clean_weights()"
   ]
  },
  {
   "cell_type": "code",
   "execution_count": null,
   "id": "bbb9c24c-5b74-48f3-a681-964e0de198a2",
   "metadata": {},
   "outputs": [],
   "source": []
  }
 ],
 "metadata": {
  "kernelspec": {
   "display_name": "Python 3 (ipykernel)",
   "language": "python",
   "name": "python3"
  },
  "language_info": {
   "codemirror_mode": {
    "name": "ipython",
    "version": 3
   },
   "file_extension": ".py",
   "mimetype": "text/x-python",
   "name": "python",
   "nbconvert_exporter": "python",
   "pygments_lexer": "ipython3",
   "version": "3.8.18"
  }
 },
 "nbformat": 4,
 "nbformat_minor": 5
}
