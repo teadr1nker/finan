{
 "cells": [
  {
   "cell_type": "code",
   "execution_count": 1,
   "id": "94f46022-ac3a-4eaa-8f29-0e636b3cb170",
   "metadata": {},
   "outputs": [],
   "source": [
    "import yfinance as yf\n",
    "import numpy as np\n",
    "import pandas as pd"
   ]
  },
  {
   "cell_type": "code",
   "execution_count": 3,
   "id": "7b85adfe-e148-42a4-b7e8-e61a0994c4a3",
   "metadata": {},
   "outputs": [
    {
     "name": "stdout",
     "output_type": "stream",
     "text": [
      "[*********************100%%**********************]  2 of 2 completed\n"
     ]
    },
    {
     "data": {
      "text/html": [
       "<div>\n",
       "<style scoped>\n",
       "    .dataframe tbody tr th:only-of-type {\n",
       "        vertical-align: middle;\n",
       "    }\n",
       "\n",
       "    .dataframe tbody tr th {\n",
       "        vertical-align: top;\n",
       "    }\n",
       "\n",
       "    .dataframe thead th {\n",
       "        text-align: right;\n",
       "    }\n",
       "</style>\n",
       "<table border=\"1\" class=\"dataframe\">\n",
       "  <thead>\n",
       "    <tr style=\"text-align: right;\">\n",
       "      <th></th>\n",
       "      <th>AMZN</th>\n",
       "      <th>^GSPC</th>\n",
       "    </tr>\n",
       "    <tr>\n",
       "      <th>Date</th>\n",
       "      <th></th>\n",
       "      <th></th>\n",
       "    </tr>\n",
       "  </thead>\n",
       "  <tbody>\n",
       "    <tr>\n",
       "      <th>2020-01-02</th>\n",
       "      <td>94.900497</td>\n",
       "      <td>3257.850098</td>\n",
       "    </tr>\n",
       "    <tr>\n",
       "      <th>2020-01-03</th>\n",
       "      <td>93.748497</td>\n",
       "      <td>3234.850098</td>\n",
       "    </tr>\n",
       "    <tr>\n",
       "      <th>2020-01-06</th>\n",
       "      <td>95.143997</td>\n",
       "      <td>3246.280029</td>\n",
       "    </tr>\n",
       "    <tr>\n",
       "      <th>2020-01-07</th>\n",
       "      <td>95.343002</td>\n",
       "      <td>3237.179932</td>\n",
       "    </tr>\n",
       "    <tr>\n",
       "      <th>2020-01-08</th>\n",
       "      <td>94.598503</td>\n",
       "      <td>3253.050049</td>\n",
       "    </tr>\n",
       "    <tr>\n",
       "      <th>...</th>\n",
       "      <td>...</td>\n",
       "      <td>...</td>\n",
       "    </tr>\n",
       "    <tr>\n",
       "      <th>2020-05-22</th>\n",
       "      <td>121.844002</td>\n",
       "      <td>2955.449951</td>\n",
       "    </tr>\n",
       "    <tr>\n",
       "      <th>2020-05-26</th>\n",
       "      <td>121.093002</td>\n",
       "      <td>2991.770020</td>\n",
       "    </tr>\n",
       "    <tr>\n",
       "      <th>2020-05-27</th>\n",
       "      <td>120.519501</td>\n",
       "      <td>3036.129883</td>\n",
       "    </tr>\n",
       "    <tr>\n",
       "      <th>2020-05-28</th>\n",
       "      <td>120.055000</td>\n",
       "      <td>3029.729980</td>\n",
       "    </tr>\n",
       "    <tr>\n",
       "      <th>2020-05-29</th>\n",
       "      <td>122.118500</td>\n",
       "      <td>3044.310059</td>\n",
       "    </tr>\n",
       "  </tbody>\n",
       "</table>\n",
       "<p>103 rows × 2 columns</p>\n",
       "</div>"
      ],
      "text/plain": [
       "                  AMZN        ^GSPC\n",
       "Date                               \n",
       "2020-01-02   94.900497  3257.850098\n",
       "2020-01-03   93.748497  3234.850098\n",
       "2020-01-06   95.143997  3246.280029\n",
       "2020-01-07   95.343002  3237.179932\n",
       "2020-01-08   94.598503  3253.050049\n",
       "...                ...          ...\n",
       "2020-05-22  121.844002  2955.449951\n",
       "2020-05-26  121.093002  2991.770020\n",
       "2020-05-27  120.519501  3036.129883\n",
       "2020-05-28  120.055000  3029.729980\n",
       "2020-05-29  122.118500  3044.310059\n",
       "\n",
       "[103 rows x 2 columns]"
      ]
     },
     "execution_count": 3,
     "metadata": {},
     "output_type": "execute_result"
    }
   ],
   "source": [
    "data = yf.download(['AMZN', '^GSPC'], start='2020-01-01', end='2020-06-01')['Close']\n",
    "data"
   ]
  },
  {
   "cell_type": "code",
   "execution_count": 4,
   "id": "6c36df55-cb1f-4cbc-a2c0-d0aac2754662",
   "metadata": {},
   "outputs": [
    {
     "data": {
      "text/html": [
       "<div>\n",
       "<style scoped>\n",
       "    .dataframe tbody tr th:only-of-type {\n",
       "        vertical-align: middle;\n",
       "    }\n",
       "\n",
       "    .dataframe tbody tr th {\n",
       "        vertical-align: top;\n",
       "    }\n",
       "\n",
       "    .dataframe thead th {\n",
       "        text-align: right;\n",
       "    }\n",
       "</style>\n",
       "<table border=\"1\" class=\"dataframe\">\n",
       "  <thead>\n",
       "    <tr style=\"text-align: right;\">\n",
       "      <th></th>\n",
       "      <th>AMZN</th>\n",
       "      <th>^GSPC</th>\n",
       "    </tr>\n",
       "    <tr>\n",
       "      <th>Date</th>\n",
       "      <th></th>\n",
       "      <th></th>\n",
       "    </tr>\n",
       "  </thead>\n",
       "  <tbody>\n",
       "    <tr>\n",
       "      <th>2020-01-02</th>\n",
       "      <td>NaN</td>\n",
       "      <td>NaN</td>\n",
       "    </tr>\n",
       "    <tr>\n",
       "      <th>2020-01-03</th>\n",
       "      <td>-0.012213</td>\n",
       "      <td>-0.007085</td>\n",
       "    </tr>\n",
       "    <tr>\n",
       "      <th>2020-01-06</th>\n",
       "      <td>0.014776</td>\n",
       "      <td>0.003527</td>\n",
       "    </tr>\n",
       "    <tr>\n",
       "      <th>2020-01-07</th>\n",
       "      <td>0.002089</td>\n",
       "      <td>-0.002807</td>\n",
       "    </tr>\n",
       "    <tr>\n",
       "      <th>2020-01-08</th>\n",
       "      <td>-0.007839</td>\n",
       "      <td>0.004890</td>\n",
       "    </tr>\n",
       "    <tr>\n",
       "      <th>...</th>\n",
       "      <td>...</td>\n",
       "      <td>...</td>\n",
       "    </tr>\n",
       "    <tr>\n",
       "      <th>2020-05-22</th>\n",
       "      <td>-0.004038</td>\n",
       "      <td>0.002351</td>\n",
       "    </tr>\n",
       "    <tr>\n",
       "      <th>2020-05-26</th>\n",
       "      <td>-0.006183</td>\n",
       "      <td>0.012214</td>\n",
       "    </tr>\n",
       "    <tr>\n",
       "      <th>2020-05-27</th>\n",
       "      <td>-0.004747</td>\n",
       "      <td>0.014718</td>\n",
       "    </tr>\n",
       "    <tr>\n",
       "      <th>2020-05-28</th>\n",
       "      <td>-0.003862</td>\n",
       "      <td>-0.002110</td>\n",
       "    </tr>\n",
       "    <tr>\n",
       "      <th>2020-05-29</th>\n",
       "      <td>0.017042</td>\n",
       "      <td>0.004801</td>\n",
       "    </tr>\n",
       "  </tbody>\n",
       "</table>\n",
       "<p>103 rows × 2 columns</p>\n",
       "</div>"
      ],
      "text/plain": [
       "                AMZN     ^GSPC\n",
       "Date                          \n",
       "2020-01-02       NaN       NaN\n",
       "2020-01-03 -0.012213 -0.007085\n",
       "2020-01-06  0.014776  0.003527\n",
       "2020-01-07  0.002089 -0.002807\n",
       "2020-01-08 -0.007839  0.004890\n",
       "...              ...       ...\n",
       "2020-05-22 -0.004038  0.002351\n",
       "2020-05-26 -0.006183  0.012214\n",
       "2020-05-27 -0.004747  0.014718\n",
       "2020-05-28 -0.003862 -0.002110\n",
       "2020-05-29  0.017042  0.004801\n",
       "\n",
       "[103 rows x 2 columns]"
      ]
     },
     "execution_count": 4,
     "metadata": {},
     "output_type": "execute_result"
    }
   ],
   "source": [
    "secReturns = np.log(data / data.shift(1))\n",
    "secReturns"
   ]
  },
  {
   "cell_type": "code",
   "execution_count": 6,
   "id": "48b6dc25-74a7-4783-8422-716b55ba420e",
   "metadata": {},
   "outputs": [
    {
     "data": {
      "text/html": [
       "<div>\n",
       "<style scoped>\n",
       "    .dataframe tbody tr th:only-of-type {\n",
       "        vertical-align: middle;\n",
       "    }\n",
       "\n",
       "    .dataframe tbody tr th {\n",
       "        vertical-align: top;\n",
       "    }\n",
       "\n",
       "    .dataframe thead th {\n",
       "        text-align: right;\n",
       "    }\n",
       "</style>\n",
       "<table border=\"1\" class=\"dataframe\">\n",
       "  <thead>\n",
       "    <tr style=\"text-align: right;\">\n",
       "      <th></th>\n",
       "      <th>AMZN</th>\n",
       "      <th>^GSPC</th>\n",
       "    </tr>\n",
       "  </thead>\n",
       "  <tbody>\n",
       "    <tr>\n",
       "      <th>AMZN</th>\n",
       "      <td>0.184280</td>\n",
       "      <td>0.145423</td>\n",
       "    </tr>\n",
       "    <tr>\n",
       "      <th>^GSPC</th>\n",
       "      <td>0.145423</td>\n",
       "      <td>0.246330</td>\n",
       "    </tr>\n",
       "  </tbody>\n",
       "</table>\n",
       "</div>"
      ],
      "text/plain": [
       "           AMZN     ^GSPC\n",
       "AMZN   0.184280  0.145423\n",
       "^GSPC  0.145423  0.246330"
      ]
     },
     "execution_count": 6,
     "metadata": {},
     "output_type": "execute_result"
    }
   ],
   "source": [
    "cov = secReturns.cov() * 252\n",
    "cov"
   ]
  },
  {
   "cell_type": "code",
   "execution_count": 7,
   "id": "f860b668-22f5-4db1-b5b4-f4a5ac1ac91b",
   "metadata": {},
   "outputs": [
    {
     "data": {
      "text/plain": [
       "0.14542296616556583"
      ]
     },
     "execution_count": 7,
     "metadata": {},
     "output_type": "execute_result"
    }
   ],
   "source": [
    "covMarket = cov.iloc[0, 1]\n",
    "covMarket"
   ]
  },
  {
   "cell_type": "code",
   "execution_count": 8,
   "id": "aa36672e-20ec-45aa-834a-45092984ce9d",
   "metadata": {},
   "outputs": [
    {
     "data": {
      "text/plain": [
       "0.24633040154337363"
      ]
     },
     "execution_count": 8,
     "metadata": {},
     "output_type": "execute_result"
    }
   ],
   "source": [
    "marketVar = secReturns['^GSPC'].var() * 252\n",
    "marketVar"
   ]
  },
  {
   "cell_type": "code",
   "execution_count": 11,
   "id": "0a7f9cfa-9eb3-423e-9f8b-66367800aaa0",
   "metadata": {},
   "outputs": [
    {
     "data": {
      "text/plain": [
       "0.5903573625278238"
      ]
     },
     "execution_count": 11,
     "metadata": {},
     "output_type": "execute_result"
    }
   ],
   "source": [
    "beta = covMarket / marketVar\n",
    "beta"
   ]
  },
  {
   "cell_type": "code",
   "execution_count": 14,
   "id": "c2f0507d-8d92-4316-93c9-bca8866a9184",
   "metadata": {},
   "outputs": [
    {
     "data": {
      "text/plain": [
       "0.05451786812639119"
      ]
     },
     "execution_count": 14,
     "metadata": {},
     "output_type": "execute_result"
    }
   ],
   "source": [
    "riskFree = .025\n",
    "riskPrem = .05\n",
    "capmReturn = riskFree + beta * riskPrem\n",
    "capmReturn"
   ]
  },
  {
   "cell_type": "code",
   "execution_count": null,
   "id": "e9101ca0-b924-40e5-bf80-37f8d7b18b4d",
   "metadata": {},
   "outputs": [],
   "source": []
  }
 ],
 "metadata": {
  "kernelspec": {
   "display_name": "Python 3 (ipykernel)",
   "language": "python",
   "name": "python3"
  },
  "language_info": {
   "codemirror_mode": {
    "name": "ipython",
    "version": 3
   },
   "file_extension": ".py",
   "mimetype": "text/x-python",
   "name": "python",
   "nbconvert_exporter": "python",
   "pygments_lexer": "ipython3",
   "version": "3.11.5"
  }
 },
 "nbformat": 4,
 "nbformat_minor": 5
}
