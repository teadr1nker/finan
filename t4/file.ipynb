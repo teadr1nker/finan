{
 "cells": [
  {
   "cell_type": "code",
   "execution_count": 1,
   "id": "5a35a512",
   "metadata": {},
   "outputs": [],
   "source": [
    "import numpy as np\n",
    "import pandas as pd\n",
    "import matplotlib.pyplot as plt\n",
    "import yfinance as yf\n",
    "from scipy.stats import norm, shapiro\n",
    "import warnings\n",
    "warnings.filterwarnings('ignore')"
   ]
  },
  {
   "cell_type": "code",
   "execution_count": 2,
   "id": "0a7d9940",
   "metadata": {},
   "outputs": [],
   "source": [
    "def VaRHistorical(data, alpha=0.99):\n",
    "    data['returns'] = data['Close'].diff(1)\n",
    "    data = data.dropna()\n",
    "    return data['returns'].quantile(1-alpha)\n",
    "\n",
    "def VaRAnalytical(data, alpha=0.99):\n",
    "    data['returns'] = data['Close'].diff(1)\n",
    "    mean = data['returns'].mean()\n",
    "    std = data['returns'].std()\n",
    "    \n",
    "    return norm.ppf(1-alpha, mean, std)"
   ]
  },
  {
   "cell_type": "code",
   "execution_count": 3,
   "id": "43b71795",
   "metadata": {},
   "outputs": [
    {
     "name": "stdout",
     "output_type": "stream",
     "text": [
      "[*********************100%%**********************]  1 of 1 completed\n"
     ]
    },
    {
     "data": {
      "text/html": [
       "<div>\n",
       "<style scoped>\n",
       "    .dataframe tbody tr th:only-of-type {\n",
       "        vertical-align: middle;\n",
       "    }\n",
       "\n",
       "    .dataframe tbody tr th {\n",
       "        vertical-align: top;\n",
       "    }\n",
       "\n",
       "    .dataframe thead th {\n",
       "        text-align: right;\n",
       "    }\n",
       "</style>\n",
       "<table border=\"1\" class=\"dataframe\">\n",
       "  <thead>\n",
       "    <tr style=\"text-align: right;\">\n",
       "      <th></th>\n",
       "      <th>Close</th>\n",
       "    </tr>\n",
       "    <tr>\n",
       "      <th>Date</th>\n",
       "      <th></th>\n",
       "    </tr>\n",
       "  </thead>\n",
       "  <tbody>\n",
       "    <tr>\n",
       "      <th>2020-01-02</th>\n",
       "      <td>94.900497</td>\n",
       "    </tr>\n",
       "    <tr>\n",
       "      <th>2020-01-03</th>\n",
       "      <td>93.748497</td>\n",
       "    </tr>\n",
       "    <tr>\n",
       "      <th>2020-01-06</th>\n",
       "      <td>95.143997</td>\n",
       "    </tr>\n",
       "    <tr>\n",
       "      <th>2020-01-07</th>\n",
       "      <td>95.343002</td>\n",
       "    </tr>\n",
       "    <tr>\n",
       "      <th>2020-01-08</th>\n",
       "      <td>94.598503</td>\n",
       "    </tr>\n",
       "    <tr>\n",
       "      <th>...</th>\n",
       "      <td>...</td>\n",
       "    </tr>\n",
       "    <tr>\n",
       "      <th>2021-12-27</th>\n",
       "      <td>169.669495</td>\n",
       "    </tr>\n",
       "    <tr>\n",
       "      <th>2021-12-28</th>\n",
       "      <td>170.660995</td>\n",
       "    </tr>\n",
       "    <tr>\n",
       "      <th>2021-12-29</th>\n",
       "      <td>169.201004</td>\n",
       "    </tr>\n",
       "    <tr>\n",
       "      <th>2021-12-30</th>\n",
       "      <td>168.644501</td>\n",
       "    </tr>\n",
       "    <tr>\n",
       "      <th>2021-12-31</th>\n",
       "      <td>166.716995</td>\n",
       "    </tr>\n",
       "  </tbody>\n",
       "</table>\n",
       "<p>505 rows × 1 columns</p>\n",
       "</div>"
      ],
      "text/plain": [
       "                 Close\n",
       "Date                  \n",
       "2020-01-02   94.900497\n",
       "2020-01-03   93.748497\n",
       "2020-01-06   95.143997\n",
       "2020-01-07   95.343002\n",
       "2020-01-08   94.598503\n",
       "...                ...\n",
       "2021-12-27  169.669495\n",
       "2021-12-28  170.660995\n",
       "2021-12-29  169.201004\n",
       "2021-12-30  168.644501\n",
       "2021-12-31  166.716995\n",
       "\n",
       "[505 rows x 1 columns]"
      ]
     },
     "execution_count": 3,
     "metadata": {},
     "output_type": "execute_result"
    }
   ],
   "source": [
    "data = yf.download('AMZN', '2020-01-01', '2022-01-01')\n",
    "data = data[['Close']]\n",
    "data"
   ]
  },
  {
   "cell_type": "code",
   "execution_count": 4,
   "id": "0df06e13",
   "metadata": {},
   "outputs": [
    {
     "data": {
      "text/plain": [
       "Text(0.5, 1.0, 'AMZN')"
      ]
     },
     "execution_count": 4,
     "metadata": {},
     "output_type": "execute_result"
    },
    {
     "data": {
      "image/png": "[encoded data removed]",
      "text/plain": [
       "<Figure size 640x480 with 1 Axes>"
      ]
     },
     "metadata": {},
     "output_type": "display_data"
    }
   ],
   "source": [
    "plt.hist(data['Close'].diff(1))\n",
    "plt.title('AMZN')"
   ]
  },
  {
   "cell_type": "code",
   "execution_count": 5,
   "id": "d500cf4d-2659-442b-b409-af0cb2e4bae5",
   "metadata": {},
   "outputs": [
    {
     "data": {
      "text/plain": [
       "ShapiroResult(statistic=0.825892984867096, pvalue=5.0963352195288406e-23)"
      ]
     },
     "execution_count": 5,
     "metadata": {},
     "output_type": "execute_result"
    }
   ],
   "source": [
    "shapiro(data['Close'])"
   ]
  },
  {
   "cell_type": "code",
   "execution_count": 6,
   "id": "fcc905a4-7b52-4d9d-bfce-adb0d45c09a8",
   "metadata": {},
   "outputs": [
    {
     "data": {
      "text/plain": [
       "ShapiroResult(statistic=nan, pvalue=1.0)"
      ]
     },
     "execution_count": 6,
     "metadata": {},
     "output_type": "execute_result"
    }
   ],
   "source": [
    "shapiro(data['Close'].diff(1))"
   ]
  },
  {
   "cell_type": "code",
   "execution_count": 7,
   "id": "5e831135",
   "metadata": {},
   "outputs": [
    {
     "name": "stdout",
     "output_type": "stream",
     "text": [
      "Alpha: 0.99, VaR -7.238203506469726\n",
      "Alpha: 0.95, VaR -4.674851989746093\n",
      "Alpha: 0.9, VaR -3.3742095947265627\n"
     ]
    }
   ],
   "source": [
    "alphas = [0.99, 0.95, 0.9]\n",
    "for alpha in alphas:\n",
    "    print(f'Alpha: {alpha}, VaR {VaRHistorical(data, alpha)}')"
   ]
  },
  {
   "cell_type": "code",
   "execution_count": 8,
   "id": "a8406f20",
   "metadata": {},
   "outputs": [
    {
     "name": "stdout",
     "output_type": "stream",
     "text": [
      "Alpha: 0.99, VaR -6.547012123559174\n",
      "Alpha: 0.95, VaR -4.587348505172017\n",
      "Alpha: 0.9, VaR -3.542659081505112\n"
     ]
    }
   ],
   "source": [
    "for alpha in alphas:\n",
    "    print(f'Alpha: {alpha}, VaR {VaRAnalytical(data, alpha)}')"
   ]
  },
  {
   "cell_type": "code",
   "execution_count": 9,
   "id": "18d6306e",
   "metadata": {},
   "outputs": [],
   "source": [
    "def expectedShortfall(data, alpha=.99):\n",
    "    data['returns'] = data['Close'].diff(1)\n",
    "    std = data['returns'].std()\n",
    "    mean = data['returns'].mean()\n",
    "    return std * (norm.pdf(norm.ppf(1-alpha))/(1-alpha)) - mean"
   ]
  },
  {
   "cell_type": "code",
   "execution_count": 10,
   "id": "e2029263",
   "metadata": {},
   "outputs": [
    {
     "name": "stdout",
     "output_type": "stream",
     "text": [
      "Alpha: 0.99 ES: 7.521435683531707\n",
      "Alpha: 0.95 ES: 5.788919079306577\n",
      "Alpha: 0.9 ES: 4.904030784398967\n"
     ]
    }
   ],
   "source": [
    "for alpha in alphas:\n",
    "    print(f'Alpha: {alpha} ES: {expectedShortfall(data, alpha)}')"
   ]
  },
  {
   "cell_type": "code",
   "execution_count": 11,
   "id": "b6ada79e",
   "metadata": {},
   "outputs": [
    {
     "name": "stdout",
     "output_type": "stream",
     "text": [
      "[*********************100%%**********************]  1 of 1 completed\n"
     ]
    },
    {
     "data": {
      "text/html": [
       "<div>\n",
       "<style scoped>\n",
       "    .dataframe tbody tr th:only-of-type {\n",
       "        vertical-align: middle;\n",
       "    }\n",
       "\n",
       "    .dataframe tbody tr th {\n",
       "        vertical-align: top;\n",
       "    }\n",
       "\n",
       "    .dataframe thead th {\n",
       "        text-align: right;\n",
       "    }\n",
       "</style>\n",
       "<table border=\"1\" class=\"dataframe\">\n",
       "  <thead>\n",
       "    <tr style=\"text-align: right;\">\n",
       "      <th></th>\n",
       "      <th>Close</th>\n",
       "    </tr>\n",
       "    <tr>\n",
       "      <th>Date</th>\n",
       "      <th></th>\n",
       "    </tr>\n",
       "  </thead>\n",
       "  <tbody>\n",
       "    <tr>\n",
       "      <th>2020-01-02</th>\n",
       "      <td>59.977501</td>\n",
       "    </tr>\n",
       "    <tr>\n",
       "      <th>2020-01-03</th>\n",
       "      <td>59.017502</td>\n",
       "    </tr>\n",
       "    <tr>\n",
       "      <th>2020-01-06</th>\n",
       "      <td>59.264999</td>\n",
       "    </tr>\n",
       "    <tr>\n",
       "      <th>2020-01-07</th>\n",
       "      <td>59.982498</td>\n",
       "    </tr>\n",
       "    <tr>\n",
       "      <th>2020-01-08</th>\n",
       "      <td>60.095001</td>\n",
       "    </tr>\n",
       "    <tr>\n",
       "      <th>...</th>\n",
       "      <td>...</td>\n",
       "    </tr>\n",
       "    <tr>\n",
       "      <th>2021-12-27</th>\n",
       "      <td>309.450012</td>\n",
       "    </tr>\n",
       "    <tr>\n",
       "      <th>2021-12-28</th>\n",
       "      <td>303.220001</td>\n",
       "    </tr>\n",
       "    <tr>\n",
       "      <th>2021-12-29</th>\n",
       "      <td>300.010010</td>\n",
       "    </tr>\n",
       "    <tr>\n",
       "      <th>2021-12-30</th>\n",
       "      <td>295.859985</td>\n",
       "    </tr>\n",
       "    <tr>\n",
       "      <th>2021-12-31</th>\n",
       "      <td>294.109985</td>\n",
       "    </tr>\n",
       "  </tbody>\n",
       "</table>\n",
       "<p>505 rows × 1 columns</p>\n",
       "</div>"
      ],
      "text/plain": [
       "                 Close\n",
       "Date                  \n",
       "2020-01-02   59.977501\n",
       "2020-01-03   59.017502\n",
       "2020-01-06   59.264999\n",
       "2020-01-07   59.982498\n",
       "2020-01-08   60.095001\n",
       "...                ...\n",
       "2021-12-27  309.450012\n",
       "2021-12-28  303.220001\n",
       "2021-12-29  300.010010\n",
       "2021-12-30  295.859985\n",
       "2021-12-31  294.109985\n",
       "\n",
       "[505 rows x 1 columns]"
      ]
     },
     "execution_count": 11,
     "metadata": {},
     "output_type": "execute_result"
    }
   ],
   "source": [
    "data2 = yf.download('NVDA', '2020-01-01', '2022-01-01')\n",
    "data2 = data2[['Close']]\n",
    "data2"
   ]
  },
  {
   "cell_type": "code",
   "execution_count": 12,
   "id": "fcbde0b3",
   "metadata": {},
   "outputs": [
    {
     "data": {
      "text/plain": [
       "Text(0.5, 1.0, 'NVDA')"
      ]
     },
     "execution_count": 12,
     "metadata": {},
     "output_type": "execute_result"
    },
    {
     "data": {
      "image/png": "[encoded data removed]",
      "text/plain": [
       "<Figure size 640x480 with 1 Axes>"
      ]
     },
     "metadata": {},
     "output_type": "display_data"
    }
   ],
   "source": [
    "plt.hist(data2['Close'].diff(1))\n",
    "plt.title('NVDA')"
   ]
  },
  {
   "cell_type": "code",
   "execution_count": 13,
   "id": "ff1159ec-4284-4c28-820a-b9bcfc3f5f59",
   "metadata": {},
   "outputs": [
    {
     "data": {
      "text/plain": [
       "ShapiroResult(statistic=nan, pvalue=1.0)"
      ]
     },
     "execution_count": 13,
     "metadata": {},
     "output_type": "execute_result"
    }
   ],
   "source": [
    "shapiro(data2['Close'].diff(1))"
   ]
  },
  {
   "cell_type": "code",
   "execution_count": 14,
   "id": "0652998a",
   "metadata": {},
   "outputs": [
    {
     "name": "stdout",
     "output_type": "stream",
     "text": [
      "Alpha: 0.99, VaR -12.397103881835935\n",
      "Alpha: 0.95, VaR -6.510499572753899\n",
      "Alpha: 0.9, VaR -4.351997375488281\n"
     ]
    }
   ],
   "source": [
    "for alpha in alphas:\n",
    "    print(f'Alpha: {alpha}, VaR {VaRHistorical(data2, alpha)}')"
   ]
  }
 ],
 "metadata": {
  "kernelspec": {
   "display_name": "Python 3 (ipykernel)",
   "language": "python",
   "name": "python3"
  },
  "language_info": {
   "codemirror_mode": {
    "name": "ipython",
    "version": 3
   },
   "file_extension": ".py",
   "mimetype": "text/x-python",
   "name": "python",
   "nbconvert_exporter": "python",
   "pygments_lexer": "ipython3",
   "version": "3.12.0"
  }
 },
 "nbformat": 4,
 "nbformat_minor": 5
}
