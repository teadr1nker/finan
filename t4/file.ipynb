{
 "cells": [
  {
   "cell_type": "code",
   "execution_count": 54,
   "id": "5a35a512",
   "metadata": {},
   "outputs": [],
   "source": [
    "import numpy as np\n",
    "import pandas as pd\n",
    "import matplotlib.pyplot as plt\n",
    "import yfinance as yf\n",
    "from scipy.stats import norm\n",
    "import warnings\n",
    "warnings.filterwarnings('ignore')"
   ]
  },
  {
   "cell_type": "code",
   "execution_count": 55,
   "id": "0a7d9940",
   "metadata": {},
   "outputs": [],
   "source": [
    "def VaRHistorical(data, alpha=0.99):\n",
    "    data['returns'] = data['Close'].diff(1)\n",
    "    data = data.dropna()\n",
    "    return data['returns'].quantile(1-alpha)\n",
    "\n",
    "def VaRAnalytical(data, alpha=0.99):\n",
    "    data['returns'] = data['Close'].diff(1)\n",
    "    mean = data['returns'].mean()\n",
    "    std = data['returns'].std()\n",
    "    \n",
    "    return norm.ppf(1-alpha, mean, std)"
   ]
  },
  {
   "cell_type": "code",
   "execution_count": 56,
   "id": "43b71795",
   "metadata": {},
   "outputs": [
    {
     "name": "stdout",
     "output_type": "stream",
     "text": [
      "[*********************100%%**********************]  1 of 1 completed\n"
     ]
    },
    {
     "data": {
      "text/html": [
       "<div>\n",
       "<style scoped>\n",
       "    .dataframe tbody tr th:only-of-type {\n",
       "        vertical-align: middle;\n",
       "    }\n",
       "\n",
       "    .dataframe tbody tr th {\n",
       "        vertical-align: top;\n",
       "    }\n",
       "\n",
       "    .dataframe thead th {\n",
       "        text-align: right;\n",
       "    }\n",
       "</style>\n",
       "<table border=\"1\" class=\"dataframe\">\n",
       "  <thead>\n",
       "    <tr style=\"text-align: right;\">\n",
       "      <th></th>\n",
       "      <th>Close</th>\n",
       "    </tr>\n",
       "    <tr>\n",
       "      <th>Date</th>\n",
       "      <th></th>\n",
       "    </tr>\n",
       "  </thead>\n",
       "  <tbody>\n",
       "    <tr>\n",
       "      <th>2020-01-02</th>\n",
       "      <td>94.900497</td>\n",
       "    </tr>\n",
       "    <tr>\n",
       "      <th>2020-01-03</th>\n",
       "      <td>93.748497</td>\n",
       "    </tr>\n",
       "    <tr>\n",
       "      <th>2020-01-06</th>\n",
       "      <td>95.143997</td>\n",
       "    </tr>\n",
       "    <tr>\n",
       "      <th>2020-01-07</th>\n",
       "      <td>95.343002</td>\n",
       "    </tr>\n",
       "    <tr>\n",
       "      <th>2020-01-08</th>\n",
       "      <td>94.598503</td>\n",
       "    </tr>\n",
       "    <tr>\n",
       "      <th>...</th>\n",
       "      <td>...</td>\n",
       "    </tr>\n",
       "    <tr>\n",
       "      <th>2021-12-27</th>\n",
       "      <td>169.669495</td>\n",
       "    </tr>\n",
       "    <tr>\n",
       "      <th>2021-12-28</th>\n",
       "      <td>170.660995</td>\n",
       "    </tr>\n",
       "    <tr>\n",
       "      <th>2021-12-29</th>\n",
       "      <td>169.201004</td>\n",
       "    </tr>\n",
       "    <tr>\n",
       "      <th>2021-12-30</th>\n",
       "      <td>168.644501</td>\n",
       "    </tr>\n",
       "    <tr>\n",
       "      <th>2021-12-31</th>\n",
       "      <td>166.716995</td>\n",
       "    </tr>\n",
       "  </tbody>\n",
       "</table>\n",
       "<p>505 rows × 1 columns</p>\n",
       "</div>"
      ],
      "text/plain": [
       "                 Close\n",
       "Date                  \n",
       "2020-01-02   94.900497\n",
       "2020-01-03   93.748497\n",
       "2020-01-06   95.143997\n",
       "2020-01-07   95.343002\n",
       "2020-01-08   94.598503\n",
       "...                ...\n",
       "2021-12-27  169.669495\n",
       "2021-12-28  170.660995\n",
       "2021-12-29  169.201004\n",
       "2021-12-30  168.644501\n",
       "2021-12-31  166.716995\n",
       "\n",
       "[505 rows x 1 columns]"
      ]
     },
     "execution_count": 56,
     "metadata": {},
     "output_type": "execute_result"
    }
   ],
   "source": [
    "data = yf.download('AMZN', '2020-01-01', '2022-01-01')\n",
    "data = data[['Close']]\n",
    "data"
   ]
  },
  {
   "cell_type": "code",
   "execution_count": 62,
   "id": "0df06e13",
   "metadata": {},
   "outputs": [
    {
     "data": {
      "text/plain": [
       "Text(0.5, 1.0, 'AMZN')"
      ]
     },
     "execution_count": 62,
     "metadata": {},
     "output_type": "execute_result"
    },
    {
     "data": {
      "image/png": "[encoded data removed]",
      "text/plain": [
       "<Figure size 640x480 with 1 Axes>"
      ]
     },
     "metadata": {},
     "output_type": "display_data"
    }
   ],
   "source": [
    "plt.hist(data['Close'].diff(1))\n",
    "plt.title('AMZN')"
   ]
  },
  {
   "cell_type": "code",
   "execution_count": 58,
   "id": "5e831135",
   "metadata": {},
   "outputs": [
    {
     "name": "stdout",
     "output_type": "stream",
     "text": [
      "Alpha: 0.99, VaR -7.238203506469726\n",
      "Alpha: 0.95, VaR -4.674851989746093\n",
      "Alpha: 0.9, VaR -3.3742095947265627\n"
     ]
    }
   ],
   "source": [
    "alphas = [0.99, 0.95, 0.9]\n",
    "for alpha in alphas:\n",
    "    print(f'Alpha: {alpha}, VaR {VaRHistorical(data, alpha)}')"
   ]
  },
  {
   "cell_type": "code",
   "execution_count": 59,
   "id": "a8406f20",
   "metadata": {},
   "outputs": [
    {
     "name": "stdout",
     "output_type": "stream",
     "text": [
      "Alpha: 0.99, VaR -6.547012123559174\n",
      "Alpha: 0.95, VaR -4.587348505172017\n",
      "Alpha: 0.9, VaR -3.542659081505112\n"
     ]
    }
   ],
   "source": [
    "for alpha in alphas:\n",
    "    print(f'Alpha: {alpha}, VaR {VaRAnalytical(data, alpha)}')"
   ]
  },
  {
   "cell_type": "code",
   "execution_count": 60,
   "id": "18d6306e",
   "metadata": {},
   "outputs": [],
   "source": [
    "def expectedShortfall(data, alpha=.99):\n",
    "    data['returns'] = data['Close'].diff(1)\n",
    "    std = data['returns'].std()\n",
    "    mean = data['returns'].mean()\n",
    "    return norm.ppf(1-alpha)*std - mean"
   ]
  },
  {
   "cell_type": "code",
   "execution_count": 61,
   "id": "e2029263",
   "metadata": {},
   "outputs": [
    {
     "name": "stdout",
     "output_type": "stream",
     "text": [
      "Alpha: 0.99 ES: -6.8319982259509775\n",
      "Alpha: 0.95 ES: -4.87233460756382\n",
      "Alpha: 0.9 ES: -3.8276451838969154\n"
     ]
    }
   ],
   "source": [
    "for alpha in alphas:\n",
    "    print(f'Alpha: {alpha} ES: {expectedShortfall(data, alpha)}')"
   ]
  },
  {
   "cell_type": "code",
   "execution_count": 63,
   "id": "b6ada79e",
   "metadata": {},
   "outputs": [
    {
     "name": "stdout",
     "output_type": "stream",
     "text": [
      "[*********************100%%**********************]  1 of 1 completed\n"
     ]
    },
    {
     "data": {
      "text/html": [
       "<div>\n",
       "<style scoped>\n",
       "    .dataframe tbody tr th:only-of-type {\n",
       "        vertical-align: middle;\n",
       "    }\n",
       "\n",
       "    .dataframe tbody tr th {\n",
       "        vertical-align: top;\n",
       "    }\n",
       "\n",
       "    .dataframe thead th {\n",
       "        text-align: right;\n",
       "    }\n",
       "</style>\n",
       "<table border=\"1\" class=\"dataframe\">\n",
       "  <thead>\n",
       "    <tr style=\"text-align: right;\">\n",
       "      <th></th>\n",
       "      <th>Close</th>\n",
       "    </tr>\n",
       "    <tr>\n",
       "      <th>Date</th>\n",
       "      <th></th>\n",
       "    </tr>\n",
       "  </thead>\n",
       "  <tbody>\n",
       "    <tr>\n",
       "      <th>2020-01-02</th>\n",
       "      <td>49.099998</td>\n",
       "    </tr>\n",
       "    <tr>\n",
       "      <th>2020-01-03</th>\n",
       "      <td>48.599998</td>\n",
       "    </tr>\n",
       "    <tr>\n",
       "      <th>2020-01-06</th>\n",
       "      <td>48.389999</td>\n",
       "    </tr>\n",
       "    <tr>\n",
       "      <th>2020-01-07</th>\n",
       "      <td>48.250000</td>\n",
       "    </tr>\n",
       "    <tr>\n",
       "      <th>2020-01-08</th>\n",
       "      <td>47.830002</td>\n",
       "    </tr>\n",
       "    <tr>\n",
       "      <th>...</th>\n",
       "      <td>...</td>\n",
       "    </tr>\n",
       "    <tr>\n",
       "      <th>2021-12-27</th>\n",
       "      <td>154.360001</td>\n",
       "    </tr>\n",
       "    <tr>\n",
       "      <th>2021-12-28</th>\n",
       "      <td>153.149994</td>\n",
       "    </tr>\n",
       "    <tr>\n",
       "      <th>2021-12-29</th>\n",
       "      <td>148.259995</td>\n",
       "    </tr>\n",
       "    <tr>\n",
       "      <th>2021-12-30</th>\n",
       "      <td>145.149994</td>\n",
       "    </tr>\n",
       "    <tr>\n",
       "      <th>2021-12-31</th>\n",
       "      <td>143.899994</td>\n",
       "    </tr>\n",
       "  </tbody>\n",
       "</table>\n",
       "<p>505 rows × 1 columns</p>\n",
       "</div>"
      ],
      "text/plain": [
       "                 Close\n",
       "Date                  \n",
       "2020-01-02   49.099998\n",
       "2020-01-03   48.599998\n",
       "2020-01-06   48.389999\n",
       "2020-01-07   48.250000\n",
       "2020-01-08   47.830002\n",
       "...                ...\n",
       "2021-12-27  154.360001\n",
       "2021-12-28  153.149994\n",
       "2021-12-29  148.259995\n",
       "2021-12-30  145.149994\n",
       "2021-12-31  143.899994\n",
       "\n",
       "[505 rows x 1 columns]"
      ]
     },
     "execution_count": 63,
     "metadata": {},
     "output_type": "execute_result"
    }
   ],
   "source": [
    "data2 = yf.download('AMD', '2020-01-01', '2022-01-01')\n",
    "data2 = data2[['Close']]\n",
    "data2"
   ]
  },
  {
   "cell_type": "code",
   "execution_count": 65,
   "id": "fcbde0b3",
   "metadata": {},
   "outputs": [
    {
     "data": {
      "text/plain": [
       "Text(0.5, 1.0, 'AMD')"
      ]
     },
     "execution_count": 65,
     "metadata": {},
     "output_type": "execute_result"
    },
    {
     "data": {
      "image/png": "[encoded data removed]",
      "text/plain": [
       "<Figure size 640x480 with 1 Axes>"
      ]
     },
     "metadata": {},
     "output_type": "display_data"
    }
   ],
   "source": [
    "plt.hist(data2['Close'].diff(1))\n",
    "plt.title('AMD')"
   ]
  },
  {
   "cell_type": "code",
   "execution_count": 66,
   "id": "0652998a",
   "metadata": {},
   "outputs": [
    {
     "name": "stdout",
     "output_type": "stream",
     "text": [
      "Alpha: 0.99, VaR -6.689402313232422\n",
      "Alpha: 0.95, VaR -4.041002845764159\n",
      "Alpha: 0.9, VaR -2.7179954528808596\n"
     ]
    }
   ],
   "source": [
    "for alpha in alphas:\n",
    "    print(f'Alpha: {alpha}, VaR {VaRHistorical(data2, alpha)}')"
   ]
  },
  {
   "cell_type": "code",
   "execution_count": null,
   "id": "532cf4ce",
   "metadata": {},
   "outputs": [],
   "source": []
  }
 ],
 "metadata": {
  "kernelspec": {
   "display_name": "Python 3 (ipykernel)",
   "language": "python",
   "name": "python3"
  },
  "language_info": {
   "codemirror_mode": {
    "name": "ipython",
    "version": 3
   },
   "file_extension": ".py",
   "mimetype": "text/x-python",
   "name": "python",
   "nbconvert_exporter": "python",
   "pygments_lexer": "ipython3",
   "version": "3.11.6"
  }
 },
 "nbformat": 4,
 "nbformat_minor": 5
}
