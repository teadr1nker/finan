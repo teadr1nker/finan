{
 "cells": [
  {
   "cell_type": "code",
   "execution_count": 1,
   "id": "5a35a512",
   "metadata": {},
   "outputs": [],
   "source": [
    "import numpy as np\n",
    "import pandas as pd\n",
    "import matplotlib.pyplot as plt\n",
    "import yfinance as yf\n",
    "from scipy.stats import norm, shapiro\n",
    "import warnings\n",
    "warnings.filterwarnings('ignore')"
   ]
  },
  {
   "cell_type": "code",
   "execution_count": 37,
   "id": "0a7d9940",
   "metadata": {},
   "outputs": [],
   "source": [
    "def VaRHistorical(data, alpha=0.99):\n",
    "    data['returns'] = data['Close'].diff(1)\n",
    "    data = data.dropna()\n",
    "    return -data['returns'].quantile(1-alpha)\n",
    "\n",
    "def VaRAnalytical(data, alpha=0.99):\n",
    "    data['returns'] = data['Close'].diff(1)\n",
    "    mean = data['returns'].mean()\n",
    "    std = data['returns'].std()\n",
    "    \n",
    "    # return -norm.ppf(1-alpha, mean, std)\n",
    "    return -(-mean + std * (norm.ppf(1-alpha)))"
   ]
  },
  {
   "cell_type": "code",
   "execution_count": 38,
   "id": "43b71795",
   "metadata": {},
   "outputs": [
    {
     "name": "stdout",
     "output_type": "stream",
     "text": [
      "[*********************100%%**********************]  1 of 1 completed\n"
     ]
    },
    {
     "data": {
      "text/html": [
       "<div>\n",
       "<style scoped>\n",
       "    .dataframe tbody tr th:only-of-type {\n",
       "        vertical-align: middle;\n",
       "    }\n",
       "\n",
       "    .dataframe tbody tr th {\n",
       "        vertical-align: top;\n",
       "    }\n",
       "\n",
       "    .dataframe thead th {\n",
       "        text-align: right;\n",
       "    }\n",
       "</style>\n",
       "<table border=\"1\" class=\"dataframe\">\n",
       "  <thead>\n",
       "    <tr style=\"text-align: right;\">\n",
       "      <th></th>\n",
       "      <th>Close</th>\n",
       "    </tr>\n",
       "    <tr>\n",
       "      <th>Date</th>\n",
       "      <th></th>\n",
       "    </tr>\n",
       "  </thead>\n",
       "  <tbody>\n",
       "    <tr>\n",
       "      <th>2020-01-02</th>\n",
       "      <td>94.900497</td>\n",
       "    </tr>\n",
       "    <tr>\n",
       "      <th>2020-01-03</th>\n",
       "      <td>93.748497</td>\n",
       "    </tr>\n",
       "    <tr>\n",
       "      <th>2020-01-06</th>\n",
       "      <td>95.143997</td>\n",
       "    </tr>\n",
       "    <tr>\n",
       "      <th>2020-01-07</th>\n",
       "      <td>95.343002</td>\n",
       "    </tr>\n",
       "    <tr>\n",
       "      <th>2020-01-08</th>\n",
       "      <td>94.598503</td>\n",
       "    </tr>\n",
       "    <tr>\n",
       "      <th>...</th>\n",
       "      <td>...</td>\n",
       "    </tr>\n",
       "    <tr>\n",
       "      <th>2021-12-27</th>\n",
       "      <td>169.669495</td>\n",
       "    </tr>\n",
       "    <tr>\n",
       "      <th>2021-12-28</th>\n",
       "      <td>170.660995</td>\n",
       "    </tr>\n",
       "    <tr>\n",
       "      <th>2021-12-29</th>\n",
       "      <td>169.201004</td>\n",
       "    </tr>\n",
       "    <tr>\n",
       "      <th>2021-12-30</th>\n",
       "      <td>168.644501</td>\n",
       "    </tr>\n",
       "    <tr>\n",
       "      <th>2021-12-31</th>\n",
       "      <td>166.716995</td>\n",
       "    </tr>\n",
       "  </tbody>\n",
       "</table>\n",
       "<p>505 rows × 1 columns</p>\n",
       "</div>"
      ],
      "text/plain": [
       "                 Close\n",
       "Date                  \n",
       "2020-01-02   94.900497\n",
       "2020-01-03   93.748497\n",
       "2020-01-06   95.143997\n",
       "2020-01-07   95.343002\n",
       "2020-01-08   94.598503\n",
       "...                ...\n",
       "2021-12-27  169.669495\n",
       "2021-12-28  170.660995\n",
       "2021-12-29  169.201004\n",
       "2021-12-30  168.644501\n",
       "2021-12-31  166.716995\n",
       "\n",
       "[505 rows x 1 columns]"
      ]
     },
     "execution_count": 38,
     "metadata": {},
     "output_type": "execute_result"
    }
   ],
   "source": [
    "data = yf.download('AMZN', '2020-01-01', '2022-01-01')\n",
    "data = data[['Close']]\n",
    "data"
   ]
  },
  {
   "cell_type": "code",
   "execution_count": 39,
   "id": "0df06e13",
   "metadata": {},
   "outputs": [
    {
     "data": {
      "text/plain": [
       "Text(0.5, 1.0, 'AMZN')"
      ]
     },
     "execution_count": 39,
     "metadata": {},
     "output_type": "execute_result"
    },
    {
     "data": {
      "image/png": "[encoded data removed]",
      "text/plain": [
       "<Figure size 640x480 with 1 Axes>"
      ]
     },
     "metadata": {},
     "output_type": "display_data"
    }
   ],
   "source": [
    "plt.hist(data['Close'].diff(1))\n",
    "plt.title('AMZN')"
   ]
  },
  {
   "cell_type": "code",
   "execution_count": 40,
   "id": "d500cf4d-2659-442b-b409-af0cb2e4bae5",
   "metadata": {},
   "outputs": [
    {
     "data": {
      "text/plain": [
       "ShapiroResult(statistic=0.825892984867096, pvalue=5.0963352195288406e-23)"
      ]
     },
     "execution_count": 40,
     "metadata": {},
     "output_type": "execute_result"
    }
   ],
   "source": [
    "shapiro(data['Close'])"
   ]
  },
  {
   "cell_type": "code",
   "execution_count": 41,
   "id": "fcc905a4-7b52-4d9d-bfce-adb0d45c09a8",
   "metadata": {},
   "outputs": [
    {
     "data": {
      "text/plain": [
       "ShapiroResult(statistic=nan, pvalue=1.0)"
      ]
     },
     "execution_count": 41,
     "metadata": {},
     "output_type": "execute_result"
    }
   ],
   "source": [
    "shapiro(data['Close'].diff(1))"
   ]
  },
  {
   "cell_type": "code",
   "execution_count": 42,
   "id": "5e831135",
   "metadata": {},
   "outputs": [
    {
     "name": "stdout",
     "output_type": "stream",
     "text": [
      "Alpha: 0.99, VaR 7.238203506469726\n",
      "Alpha: 0.95, VaR 4.674851989746093\n",
      "Alpha: 0.9, VaR 3.3742095947265627\n"
     ]
    }
   ],
   "source": [
    "alphas = [0.99, 0.95, 0.9]\n",
    "for alpha in alphas:\n",
    "    print(f'Alpha: {alpha}, VaR {VaRHistorical(data, alpha)}')"
   ]
  },
  {
   "cell_type": "code",
   "execution_count": 43,
   "id": "a8406f20",
   "metadata": {},
   "outputs": [
    {
     "name": "stdout",
     "output_type": "stream",
     "text": [
      "Alpha: 0.99, VaR 6.8319982259509775\n",
      "Alpha: 0.95, VaR 4.87233460756382\n",
      "Alpha: 0.9, VaR 3.8276451838969154\n"
     ]
    }
   ],
   "source": [
    "for alpha in alphas:\n",
    "    print(f'Alpha: {alpha}, VaR {VaRAnalytical(data, alpha)}')"
   ]
  },
  {
   "cell_type": "code",
   "execution_count": 54,
   "id": "18d6306e",
   "metadata": {},
   "outputs": [],
   "source": [
    "def expectedShortfall(data, alpha=.99):\n",
    "    data['returns'] = data['Close'].diff(1)\n",
    "    std = data['returns'].std()\n",
    "    mean = data['returns'].mean()\n",
    "    return (norm.pdf(norm.ppf(1-alpha))/(1-alpha)) * std - mean\n",
    "\n",
    "def expectedShortfallH(data, alpha=.99):\n",
    "    rets = data['Close'].diff(1)\n",
    "    belowVar = rets[rets < -VaRHistorical(data, alpha)]\n",
    "    return -belowVar.mean()"
   ]
  },
  {
   "cell_type": "code",
   "execution_count": 55,
   "id": "e2029263",
   "metadata": {},
   "outputs": [
    {
     "name": "stdout",
     "output_type": "stream",
     "text": [
      "Alpha: 0.99 ES: 7.521435683531707\n",
      "Alpha: 0.95 ES: 5.788919079306577\n",
      "Alpha: 0.9 ES: 4.904030784398967\n"
     ]
    }
   ],
   "source": [
    "for alpha in alphas:\n",
    "    print(f'Alpha: {alpha} ES: {expectedShortfall(data, alpha)}')"
   ]
  },
  {
   "cell_type": "code",
   "execution_count": 56,
   "id": "5f908e59-8400-44ff-9243-2816f57d85b3",
   "metadata": {},
   "outputs": [
    {
     "name": "stdout",
     "output_type": "stream",
     "text": [
      "Alpha: 0.99 ES: 9.258417765299479\n",
      "Alpha: 0.95 ES: 6.184327932504507\n",
      "Alpha: 0.9 ES: 5.0573235306085325\n"
     ]
    }
   ],
   "source": [
    "for alpha in alphas:\n",
    "    print(f'Alpha: {alpha} ES: {expectedShortfallH(data, alpha)}')"
   ]
  },
  {
   "cell_type": "code",
   "execution_count": 57,
   "id": "b6ada79e",
   "metadata": {},
   "outputs": [
    {
     "name": "stdout",
     "output_type": "stream",
     "text": [
      "[*********************100%%**********************]  1 of 1 completed\n"
     ]
    },
    {
     "data": {
      "text/html": [
       "<div>\n",
       "<style scoped>\n",
       "    .dataframe tbody tr th:only-of-type {\n",
       "        vertical-align: middle;\n",
       "    }\n",
       "\n",
       "    .dataframe tbody tr th {\n",
       "        vertical-align: top;\n",
       "    }\n",
       "\n",
       "    .dataframe thead th {\n",
       "        text-align: right;\n",
       "    }\n",
       "</style>\n",
       "<table border=\"1\" class=\"dataframe\">\n",
       "  <thead>\n",
       "    <tr style=\"text-align: right;\">\n",
       "      <th></th>\n",
       "      <th>Close</th>\n",
       "    </tr>\n",
       "    <tr>\n",
       "      <th>Date</th>\n",
       "      <th></th>\n",
       "    </tr>\n",
       "  </thead>\n",
       "  <tbody>\n",
       "    <tr>\n",
       "      <th>2020-01-02</th>\n",
       "      <td>118.940002</td>\n",
       "    </tr>\n",
       "    <tr>\n",
       "      <th>2020-01-03</th>\n",
       "      <td>117.889999</td>\n",
       "    </tr>\n",
       "    <tr>\n",
       "      <th>2020-01-06</th>\n",
       "      <td>117.650002</td>\n",
       "    </tr>\n",
       "    <tr>\n",
       "      <th>2020-01-07</th>\n",
       "      <td>116.559998</td>\n",
       "    </tr>\n",
       "    <tr>\n",
       "      <th>2020-01-08</th>\n",
       "      <td>116.160004</td>\n",
       "    </tr>\n",
       "    <tr>\n",
       "      <th>...</th>\n",
       "      <td>...</td>\n",
       "    </tr>\n",
       "    <tr>\n",
       "      <th>2021-12-27</th>\n",
       "      <td>140.759995</td>\n",
       "    </tr>\n",
       "    <tr>\n",
       "      <th>2021-12-28</th>\n",
       "      <td>142.779999</td>\n",
       "    </tr>\n",
       "    <tr>\n",
       "      <th>2021-12-29</th>\n",
       "      <td>142.710007</td>\n",
       "    </tr>\n",
       "    <tr>\n",
       "      <th>2021-12-30</th>\n",
       "      <td>143.169998</td>\n",
       "    </tr>\n",
       "    <tr>\n",
       "      <th>2021-12-31</th>\n",
       "      <td>144.690002</td>\n",
       "    </tr>\n",
       "  </tbody>\n",
       "</table>\n",
       "<p>505 rows × 1 columns</p>\n",
       "</div>"
      ],
      "text/plain": [
       "                 Close\n",
       "Date                  \n",
       "2020-01-02  118.940002\n",
       "2020-01-03  117.889999\n",
       "2020-01-06  117.650002\n",
       "2020-01-07  116.559998\n",
       "2020-01-08  116.160004\n",
       "...                ...\n",
       "2021-12-27  140.759995\n",
       "2021-12-28  142.779999\n",
       "2021-12-29  142.710007\n",
       "2021-12-30  143.169998\n",
       "2021-12-31  144.690002\n",
       "\n",
       "[505 rows x 1 columns]"
      ]
     },
     "execution_count": 57,
     "metadata": {},
     "output_type": "execute_result"
    }
   ],
   "source": [
    "data2 = yf.download('WMT', '2020-01-01', '2022-01-01')\n",
    "data2 = data2[['Close']]\n",
    "data2"
   ]
  },
  {
   "cell_type": "code",
   "execution_count": 58,
   "id": "fcbde0b3",
   "metadata": {},
   "outputs": [
    {
     "data": {
      "text/plain": [
       "Text(0.5, 1.0, 'Walmart')"
      ]
     },
     "execution_count": 58,
     "metadata": {},
     "output_type": "execute_result"
    },
    {
     "data": {
      "image/png": "[encoded data removed]",
      "text/plain": [
       "<Figure size 640x480 with 1 Axes>"
      ]
     },
     "metadata": {},
     "output_type": "display_data"
    }
   ],
   "source": [
    "plt.hist(data2['Close'].diff(1))\n",
    "plt.title('Walmart')"
   ]
  },
  {
   "cell_type": "code",
   "execution_count": 59,
   "id": "ff1159ec-4284-4c28-820a-b9bcfc3f5f59",
   "metadata": {},
   "outputs": [
    {
     "data": {
      "text/plain": [
       "ShapiroResult(statistic=nan, pvalue=1.0)"
      ]
     },
     "execution_count": 59,
     "metadata": {},
     "output_type": "execute_result"
    }
   ],
   "source": [
    "shapiro(data2['Close'].diff(1))"
   ]
  },
  {
   "cell_type": "code",
   "execution_count": 60,
   "id": "0652998a",
   "metadata": {},
   "outputs": [
    {
     "name": "stdout",
     "output_type": "stream",
     "text": [
      "Alpha: 0.99, VaR 5.336900482177731\n",
      "Alpha: 0.95, VaR 2.6905059814453094\n",
      "Alpha: 0.9, VaR 1.9869918823242188\n"
     ]
    }
   ],
   "source": [
    "for alpha in alphas:\n",
    "    print(f'Alpha: {alpha}, VaR {VaRHistorical(data2, alpha)}')"
   ]
  },
  {
   "cell_type": "code",
   "execution_count": 61,
   "id": "922252a2-396e-4033-ad8a-87d29e802328",
   "metadata": {},
   "outputs": [
    {
     "name": "stdout",
     "output_type": "stream",
     "text": [
      "Alpha: 0.99, VaR 4.6675685317479\n",
      "Alpha: 0.95, VaR 3.3151900973293613\n",
      "Alpha: 0.9, VaR 2.594242158113635\n"
     ]
    }
   ],
   "source": [
    "for alpha in alphas:\n",
    "    print(f'Alpha: {alpha}, VaR {VaRAnalytical(data2, alpha)}')"
   ]
  },
  {
   "cell_type": "code",
   "execution_count": 62,
   "id": "9b05d418-ae53-43f7-b04f-8333d553ff98",
   "metadata": {},
   "outputs": [
    {
     "name": "stdout",
     "output_type": "stream",
     "text": [
      "Alpha: 0.99 ES: 5.2378429362733465\n",
      "Alpha: 0.95 ES: 4.042220345313345\n",
      "Alpha: 0.9 ES: 3.4315523532794083\n"
     ]
    }
   ],
   "source": [
    "for alpha in alphas:\n",
    "    print(f'Alpha: {alpha} ES: {expectedShortfall(data2, alpha)}')"
   ]
  },
  {
   "cell_type": "code",
   "execution_count": 63,
   "id": "6852d355-b732-4aee-a1ff-82163e2e60df",
   "metadata": {},
   "outputs": [
    {
     "name": "stdout",
     "output_type": "stream",
     "text": [
      "Alpha: 0.99 ES: 7.288330078125\n",
      "Alpha: 0.95 ES: 4.303461808424729\n",
      "Alpha: 0.9 ES: 3.302940667844286\n"
     ]
    }
   ],
   "source": [
    "for alpha in alphas:\n",
    "    print(f'Alpha: {alpha} ES: {expectedShortfallH(data2, alpha)}')"
   ]
  }
 ],
 "metadata": {
  "kernelspec": {
   "display_name": "Python 3 (ipykernel)",
   "language": "python",
   "name": "python3"
  },
  "language_info": {
   "codemirror_mode": {
    "name": "ipython",
    "version": 3
   },
   "file_extension": ".py",
   "mimetype": "text/x-python",
   "name": "python",
   "nbconvert_exporter": "python",
   "pygments_lexer": "ipython3",
   "version": "3.8.18"
  }
 },
 "nbformat": 4,
 "nbformat_minor": 5
}
