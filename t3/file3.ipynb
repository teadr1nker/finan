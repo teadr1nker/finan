{
 "cells": [
  {
   "cell_type": "code",
   "execution_count": 1,
   "id": "48fe6890-4ef8-4037-b8cc-df7c374da239",
   "metadata": {},
   "outputs": [],
   "source": [
    "import yfinance as yf\n",
    "from pypfopt import expected_returns, EfficientSemivariance, EfficientFrontier, plotting\n",
    "from pypfopt.risk_models import risk_matrix\n",
    "import matplotlib.pyplot as plt\n",
    "import numpy as np\n",
    "from pypfopt.expected_returns import capm_return\n",
    "import warnings\n",
    "warnings.filterwarnings('ignore')"
   ]
  },
  {
   "cell_type": "code",
   "execution_count": 28,
   "id": "a433869c-0838-4b6f-96be-50250249f7b6",
   "metadata": {},
   "outputs": [
    {
     "name": "stdout",
     "output_type": "stream",
     "text": [
      "[*********************100%%**********************]  2 of 2 completed\n"
     ]
    },
    {
     "data": {
      "text/html": [
       "<div>\n",
       "<style scoped>\n",
       "    .dataframe tbody tr th:only-of-type {\n",
       "        vertical-align: middle;\n",
       "    }\n",
       "\n",
       "    .dataframe tbody tr th {\n",
       "        vertical-align: top;\n",
       "    }\n",
       "\n",
       "    .dataframe thead th {\n",
       "        text-align: right;\n",
       "    }\n",
       "</style>\n",
       "<table border=\"1\" class=\"dataframe\">\n",
       "  <thead>\n",
       "    <tr style=\"text-align: right;\">\n",
       "      <th></th>\n",
       "      <th>AAPL</th>\n",
       "      <th>AMZN</th>\n",
       "    </tr>\n",
       "    <tr>\n",
       "      <th>Date</th>\n",
       "      <th></th>\n",
       "      <th></th>\n",
       "    </tr>\n",
       "  </thead>\n",
       "  <tbody>\n",
       "    <tr>\n",
       "      <th>2020-01-02</th>\n",
       "      <td>73.152641</td>\n",
       "      <td>94.900497</td>\n",
       "    </tr>\n",
       "    <tr>\n",
       "      <th>2020-01-03</th>\n",
       "      <td>72.441437</td>\n",
       "      <td>93.748497</td>\n",
       "    </tr>\n",
       "    <tr>\n",
       "      <th>2020-01-06</th>\n",
       "      <td>73.018692</td>\n",
       "      <td>95.143997</td>\n",
       "    </tr>\n",
       "    <tr>\n",
       "      <th>2020-01-07</th>\n",
       "      <td>72.675285</td>\n",
       "      <td>95.343002</td>\n",
       "    </tr>\n",
       "    <tr>\n",
       "      <th>2020-01-08</th>\n",
       "      <td>73.844353</td>\n",
       "      <td>94.598503</td>\n",
       "    </tr>\n",
       "    <tr>\n",
       "      <th>...</th>\n",
       "      <td>...</td>\n",
       "      <td>...</td>\n",
       "    </tr>\n",
       "    <tr>\n",
       "      <th>2020-12-24</th>\n",
       "      <td>129.679718</td>\n",
       "      <td>158.634506</td>\n",
       "    </tr>\n",
       "    <tr>\n",
       "      <th>2020-12-28</th>\n",
       "      <td>134.317810</td>\n",
       "      <td>164.197998</td>\n",
       "    </tr>\n",
       "    <tr>\n",
       "      <th>2020-12-29</th>\n",
       "      <td>132.529388</td>\n",
       "      <td>166.100006</td>\n",
       "    </tr>\n",
       "    <tr>\n",
       "      <th>2020-12-30</th>\n",
       "      <td>131.399368</td>\n",
       "      <td>164.292496</td>\n",
       "    </tr>\n",
       "    <tr>\n",
       "      <th>2020-12-31</th>\n",
       "      <td>130.387238</td>\n",
       "      <td>162.846497</td>\n",
       "    </tr>\n",
       "  </tbody>\n",
       "</table>\n",
       "<p>253 rows × 2 columns</p>\n",
       "</div>"
      ],
      "text/plain": [
       "                  AAPL        AMZN\n",
       "Date                              \n",
       "2020-01-02   73.152641   94.900497\n",
       "2020-01-03   72.441437   93.748497\n",
       "2020-01-06   73.018692   95.143997\n",
       "2020-01-07   72.675285   95.343002\n",
       "2020-01-08   73.844353   94.598503\n",
       "...                ...         ...\n",
       "2020-12-24  129.679718  158.634506\n",
       "2020-12-28  134.317810  164.197998\n",
       "2020-12-29  132.529388  166.100006\n",
       "2020-12-30  131.399368  164.292496\n",
       "2020-12-31  130.387238  162.846497\n",
       "\n",
       "[253 rows x 2 columns]"
      ]
     },
     "execution_count": 28,
     "metadata": {},
     "output_type": "execute_result"
    }
   ],
   "source": [
    "data = yf.download(['AMZN', 'AAPL'], start='2020-01-01', end='2021-01-01')['Adj Close']\n",
    "data"
   ]
  },
  {
   "cell_type": "code",
   "execution_count": 29,
   "id": "3b5d041b",
   "metadata": {},
   "outputs": [],
   "source": [
    "#plt.plot(data['NVDA'])\n",
    "#plt.plot(data['AMZN'])"
   ]
  },
  {
   "cell_type": "code",
   "execution_count": 30,
   "id": "55683bae-8fa8-4925-971c-d4e15f644bf3",
   "metadata": {},
   "outputs": [],
   "source": [
    "mu = expected_returns.mean_historical_return(data)\n",
    "historicalReturns = expected_returns.returns_from_prices(data)"
   ]
  },
  {
   "cell_type": "code",
   "execution_count": 31,
   "id": "07e67242-3eca-4a55-ac69-d8c2eab2775a",
   "metadata": {},
   "outputs": [
    {
     "data": {
      "text/plain": [
       "AAPL    0.782400\n",
       "AMZN    0.715971\n",
       "dtype: float64"
      ]
     },
     "execution_count": 31,
     "metadata": {},
     "output_type": "execute_result"
    }
   ],
   "source": [
    "mu"
   ]
  },
  {
   "cell_type": "code",
   "execution_count": 32,
   "id": "94954586-adab-4409-9d7e-a3a230cda86e",
   "metadata": {},
   "outputs": [
    {
     "data": {
      "text/html": [
       "<div>\n",
       "<style scoped>\n",
       "    .dataframe tbody tr th:only-of-type {\n",
       "        vertical-align: middle;\n",
       "    }\n",
       "\n",
       "    .dataframe tbody tr th {\n",
       "        vertical-align: top;\n",
       "    }\n",
       "\n",
       "    .dataframe thead th {\n",
       "        text-align: right;\n",
       "    }\n",
       "</style>\n",
       "<table border=\"1\" class=\"dataframe\">\n",
       "  <thead>\n",
       "    <tr style=\"text-align: right;\">\n",
       "      <th></th>\n",
       "      <th>AAPL</th>\n",
       "      <th>AMZN</th>\n",
       "    </tr>\n",
       "    <tr>\n",
       "      <th>Date</th>\n",
       "      <th></th>\n",
       "      <th></th>\n",
       "    </tr>\n",
       "  </thead>\n",
       "  <tbody>\n",
       "    <tr>\n",
       "      <th>2020-01-03</th>\n",
       "      <td>-0.009722</td>\n",
       "      <td>-0.012139</td>\n",
       "    </tr>\n",
       "    <tr>\n",
       "      <th>2020-01-06</th>\n",
       "      <td>0.007969</td>\n",
       "      <td>0.014886</td>\n",
       "    </tr>\n",
       "    <tr>\n",
       "      <th>2020-01-07</th>\n",
       "      <td>-0.004703</td>\n",
       "      <td>0.002092</td>\n",
       "    </tr>\n",
       "    <tr>\n",
       "      <th>2020-01-08</th>\n",
       "      <td>0.016086</td>\n",
       "      <td>-0.007809</td>\n",
       "    </tr>\n",
       "    <tr>\n",
       "      <th>2020-01-09</th>\n",
       "      <td>0.021241</td>\n",
       "      <td>0.004799</td>\n",
       "    </tr>\n",
       "    <tr>\n",
       "      <th>...</th>\n",
       "      <td>...</td>\n",
       "      <td>...</td>\n",
       "    </tr>\n",
       "    <tr>\n",
       "      <th>2020-12-24</th>\n",
       "      <td>0.007712</td>\n",
       "      <td>-0.003949</td>\n",
       "    </tr>\n",
       "    <tr>\n",
       "      <th>2020-12-28</th>\n",
       "      <td>0.035766</td>\n",
       "      <td>0.035071</td>\n",
       "    </tr>\n",
       "    <tr>\n",
       "      <th>2020-12-29</th>\n",
       "      <td>-0.013315</td>\n",
       "      <td>0.011584</td>\n",
       "    </tr>\n",
       "    <tr>\n",
       "      <th>2020-12-30</th>\n",
       "      <td>-0.008527</td>\n",
       "      <td>-0.010882</td>\n",
       "    </tr>\n",
       "    <tr>\n",
       "      <th>2020-12-31</th>\n",
       "      <td>-0.007703</td>\n",
       "      <td>-0.008801</td>\n",
       "    </tr>\n",
       "  </tbody>\n",
       "</table>\n",
       "<p>252 rows × 2 columns</p>\n",
       "</div>"
      ],
      "text/plain": [
       "                AAPL      AMZN\n",
       "Date                          \n",
       "2020-01-03 -0.009722 -0.012139\n",
       "2020-01-06  0.007969  0.014886\n",
       "2020-01-07 -0.004703  0.002092\n",
       "2020-01-08  0.016086 -0.007809\n",
       "2020-01-09  0.021241  0.004799\n",
       "...              ...       ...\n",
       "2020-12-24  0.007712 -0.003949\n",
       "2020-12-28  0.035766  0.035071\n",
       "2020-12-29 -0.013315  0.011584\n",
       "2020-12-30 -0.008527 -0.010882\n",
       "2020-12-31 -0.007703 -0.008801\n",
       "\n",
       "[252 rows x 2 columns]"
      ]
     },
     "execution_count": 32,
     "metadata": {},
     "output_type": "execute_result"
    }
   ],
   "source": [
    "historicalReturns"
   ]
  },
  {
   "cell_type": "code",
   "execution_count": 45,
   "id": "b2ddfb28-8876-4d81-8a57-769779a90a47",
   "metadata": {},
   "outputs": [
    {
     "data": {
      "text/plain": [
       "OrderedDict([('AAPL', 5.54143275e-08), ('AMZN', 0.9999999446369519)])"
      ]
     },
     "execution_count": 45,
     "metadata": {},
     "output_type": "execute_result"
    }
   ],
   "source": [
    "es = EfficientSemivariance(mu, historicalReturns)\n",
    "es.min_semivariance()"
   ]
  },
  {
   "cell_type": "code",
   "execution_count": 46,
   "id": "deff81ba-be39-4c83-909e-833501c126f8",
   "metadata": {},
   "outputs": [
    {
     "data": {
      "text/plain": [
       "OrderedDict([('AAPL', 0.0), ('AMZN', 1.0)])"
      ]
     },
     "execution_count": 46,
     "metadata": {},
     "output_type": "execute_result"
    }
   ],
   "source": [
    "weights = es.clean_weights()\n",
    "weights"
   ]
  },
  {
   "cell_type": "code",
   "execution_count": 47,
   "id": "99932b36-d833-47f5-b64b-9e68e14e7bd0",
   "metadata": {},
   "outputs": [
    {
     "name": "stdout",
     "output_type": "stream",
     "text": [
      "Expected annual return: 71.6%\n",
      "Annual semi-deviation: 24.8%\n",
      "Sortino Ratio: 2.81\n"
     ]
    },
    {
     "data": {
      "text/plain": [
       "(0.7159709520361329, 0.24777493088909494, 2.8088836491196614)"
      ]
     },
     "execution_count": 47,
     "metadata": {},
     "output_type": "execute_result"
    }
   ],
   "source": [
    "es.portfolio_performance(verbose=True)"
   ]
  },
  {
   "cell_type": "code",
   "execution_count": 48,
   "id": "f823aab1-d8bb-48d6-bc30-72c5f8c25979",
   "metadata": {},
   "outputs": [
    {
     "data": {
      "text/html": [
       "<div>\n",
       "<style scoped>\n",
       "    .dataframe tbody tr th:only-of-type {\n",
       "        vertical-align: middle;\n",
       "    }\n",
       "\n",
       "    .dataframe tbody tr th {\n",
       "        vertical-align: top;\n",
       "    }\n",
       "\n",
       "    .dataframe thead th {\n",
       "        text-align: right;\n",
       "    }\n",
       "</style>\n",
       "<table border=\"1\" class=\"dataframe\">\n",
       "  <thead>\n",
       "    <tr style=\"text-align: right;\">\n",
       "      <th></th>\n",
       "      <th>AAPL</th>\n",
       "      <th>AMZN</th>\n",
       "    </tr>\n",
       "  </thead>\n",
       "  <tbody>\n",
       "    <tr>\n",
       "      <th>AAPL</th>\n",
       "      <td>0.218083</td>\n",
       "      <td>0.125394</td>\n",
       "    </tr>\n",
       "    <tr>\n",
       "      <th>AMZN</th>\n",
       "      <td>0.125394</td>\n",
       "      <td>0.148310</td>\n",
       "    </tr>\n",
       "  </tbody>\n",
       "</table>\n",
       "</div>"
      ],
      "text/plain": [
       "          AAPL      AMZN\n",
       "AAPL  0.218083  0.125394\n",
       "AMZN  0.125394  0.148310"
      ]
     },
     "execution_count": 48,
     "metadata": {},
     "output_type": "execute_result"
    }
   ],
   "source": [
    "S = risk_matrix(data)\n",
    "S"
   ]
  },
  {
   "cell_type": "code",
   "execution_count": 49,
   "id": "5966741d-5e10-4739-a9ad-b4edb0f4d760",
   "metadata": {},
   "outputs": [
    {
     "data": {
      "text/html": [
       "<div>\n",
       "<style scoped>\n",
       "    .dataframe tbody tr th:only-of-type {\n",
       "        vertical-align: middle;\n",
       "    }\n",
       "\n",
       "    .dataframe tbody tr th {\n",
       "        vertical-align: top;\n",
       "    }\n",
       "\n",
       "    .dataframe thead th {\n",
       "        text-align: right;\n",
       "    }\n",
       "</style>\n",
       "<table border=\"1\" class=\"dataframe\">\n",
       "  <thead>\n",
       "    <tr style=\"text-align: right;\">\n",
       "      <th></th>\n",
       "      <th>AAPL</th>\n",
       "      <th>AMZN</th>\n",
       "    </tr>\n",
       "  </thead>\n",
       "  <tbody>\n",
       "    <tr>\n",
       "      <th>AAPL</th>\n",
       "      <td>0.466993</td>\n",
       "      <td>0.354109</td>\n",
       "    </tr>\n",
       "    <tr>\n",
       "      <th>AMZN</th>\n",
       "      <td>0.354109</td>\n",
       "      <td>0.385110</td>\n",
       "    </tr>\n",
       "  </tbody>\n",
       "</table>\n",
       "</div>"
      ],
      "text/plain": [
       "          AAPL      AMZN\n",
       "AAPL  0.466993  0.354109\n",
       "AMZN  0.354109  0.385110"
      ]
     },
     "execution_count": 49,
     "metadata": {},
     "output_type": "execute_result"
    }
   ],
   "source": [
    "np.sqrt(S)"
   ]
  },
  {
   "cell_type": "code",
   "execution_count": 67,
   "id": "fc563809-ec36-44d2-90ff-c9065ced5619",
   "metadata": {},
   "outputs": [
    {
     "data": {
      "text/plain": [
       "<matplotlib.legend.Legend at 0x7f2b2bf60070>"
      ]
     },
     "execution_count": 67,
     "metadata": {},
     "output_type": "execute_result"
    },
    {
     "data": {
      "image/png": "[encoded data removed]",
      "text/plain": [
       "<Figure size 640x480 with 1 Axes>"
      ]
     },
     "metadata": {},
     "output_type": "display_data"
    }
   ],
   "source": [
    "ef = EfficientFrontier(mu, S)\n",
    "\n",
    "fig, ax = plt.subplots()\n",
    "efMaxSharpe = ef.deepcopy()\n",
    "efMinVol = ef.deepcopy()\n",
    "plotting.plot_efficient_frontier(ef, ax=ax, show_tickers=True)\n",
    "efMaxSharpe.max_sharpe()\n",
    "retTangent, stdTangent, _ = efMaxSharpe.portfolio_performance()\n",
    "ax.scatter(stdTangent, retTangent, marker='*', s = 100, c='r', label='Max Sharpe')\n",
    "\n",
    "Nsamples = 1024\n",
    "w = np.random.dirichlet(np.ones(ef.n_assets), Nsamples)\n",
    "rets = w.dot(ef.expected_returns)\n",
    "stds = np.sqrt(np.diag(w @ ef.cov_matrix @ w.T))\n",
    "sharpes = rets / stds\n",
    "ax.scatter(stds, rets, marker='.', c=-sharpes)\n",
    "\n",
    "minVolRet = rets[stds.argmin()]\n",
    "ax.scatter(stds.min(), minVolRet, label='Min Volatility')\n",
    "\n",
    "X = np.linspace(min(stds), stds.max(), 50)\n",
    "coefs = np.polyfit([.02, stdTangent], [0, retTangent], 1)\n",
    "polynomial = np.poly1d(coefs)\n",
    "Y = polynomial(X)\n",
    "ax.plot(X, Y, c='r', label='Tangency')\n",
    "ax.legend()"
   ]
  },
  {
   "cell_type": "code",
   "execution_count": 63,
   "id": "45b5a602",
   "metadata": {},
   "outputs": [
    {
     "data": {
      "text/plain": [
       "Text(0, 0.5, 'Sharpe')"
      ]
     },
     "execution_count": 63,
     "metadata": {},
     "output_type": "execute_result"
    },
    {
     "data": {
      "image/png": "[encoded data removed]",
      "text/plain": [
       "<Figure size 640x480 with 1 Axes>"
      ]
     },
     "metadata": {},
     "output_type": "display_data"
    }
   ],
   "source": [
    "plt.clf()\n",
    "plt.scatter(rets, sharpes)\n",
    "plt.xlabel('Returns')\n",
    "plt.ylabel('Sharpe')"
   ]
  },
  {
   "cell_type": "code",
   "execution_count": 54,
   "id": "b3abebf2-aa97-4b41-ab01-c6137e987429",
   "metadata": {},
   "outputs": [
    {
     "data": {
      "text/plain": [
       "OrderedDict([('AAPL', 0.1982274377202452), ('AMZN', 0.8017725622797547)])"
      ]
     },
     "execution_count": 54,
     "metadata": {},
     "output_type": "execute_result"
    }
   ],
   "source": [
    "efMinVol.min_volatility()"
   ]
  },
  {
   "cell_type": "code",
   "execution_count": 56,
   "id": "efbbe3f2-01b7-4897-b201-f75033a4d857",
   "metadata": {},
   "outputs": [
    {
     "name": "stdout",
     "output_type": "stream",
     "text": [
      "Expected annual return: 72.9%\n",
      "Annual volatility: 37.9%\n",
      "Sharpe Ratio: 1.87\n"
     ]
    },
    {
     "data": {
      "text/plain": [
       "(0.729138926922905, 0.3791662832226763, 1.8702584019224167)"
      ]
     },
     "execution_count": 56,
     "metadata": {},
     "output_type": "execute_result"
    }
   ],
   "source": [
    "efMinVol.portfolio_performance(verbose=True)"
   ]
  },
  {
   "cell_type": "code",
   "execution_count": 40,
   "id": "a96059b1",
   "metadata": {},
   "outputs": [
    {
     "name": "stdout",
     "output_type": "stream",
     "text": [
      "Expected annual return: 73.7%\n",
      "Annual volatility: 38.1%\n",
      "Sharpe Ratio: 1.88\n"
     ]
    }
   ],
   "source": [
    "port = efMaxSharpe.portfolio_performance(verbose=True)"
   ]
  },
  {
   "cell_type": "code",
   "execution_count": 41,
   "id": "4bb72cce",
   "metadata": {},
   "outputs": [
    {
     "data": {
      "text/plain": [
       "OrderedDict([('AAPL', 0.31472), ('AMZN', 0.68528)])"
      ]
     },
     "execution_count": 41,
     "metadata": {},
     "output_type": "execute_result"
    }
   ],
   "source": [
    "efMaxSharpe.clean_weights()"
   ]
  },
  {
   "cell_type": "code",
   "execution_count": 42,
   "id": "84b08858-be1f-441c-a6d0-f93999603921",
   "metadata": {},
   "outputs": [
    {
     "data": {
      "text/plain": [
       "0.010635834519942631"
      ]
     },
     "execution_count": 42,
     "metadata": {},
     "output_type": "execute_result"
    }
   ],
   "source": [
    "riskFree = .02\n",
    "beta = riskFree/port[2]\n",
    "beta"
   ]
  },
  {
   "cell_type": "code",
   "execution_count": 43,
   "id": "e614f6c0-dc15-4f9f-989e-bb50b88b273e",
   "metadata": {},
   "outputs": [
    {
     "data": {
      "text/plain": [
       "4.877896587405756"
      ]
     },
     "execution_count": 43,
     "metadata": {},
     "output_type": "execute_result"
    }
   ],
   "source": [
    "capm = riskFree + (port[1] / 0.146) * (port[2] - riskFree)\n",
    "capm"
   ]
  }
 ],
 "metadata": {
  "kernelspec": {
   "display_name": "Python 3 (ipykernel)",
   "language": "python",
   "name": "python3"
  },
  "language_info": {
   "codemirror_mode": {
    "name": "ipython",
    "version": 3
   },
   "file_extension": ".py",
   "mimetype": "text/x-python",
   "name": "python",
   "nbconvert_exporter": "python",
   "pygments_lexer": "ipython3",
   "version": "3.8.18"
  }
 },
 "nbformat": 4,
 "nbformat_minor": 5
}
